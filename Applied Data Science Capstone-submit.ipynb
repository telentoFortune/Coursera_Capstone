{
 "cells": [
  {
   "cell_type": "markdown",
   "metadata": {},
   "source": [
    "# <center>  Predict Severity of Car Accident </center>"
   ]
  },
  {
   "cell_type": "markdown",
   "metadata": {},
   "source": [
    "# Introduction\n",
    "This notebook will be mainly used for the capstone project.  \n",
    "In this project we will try to predict the severity of car collisions from the real-time available data.  \n",
    "Let's start playing with the data. We will be working according to the following workflow: \n",
    "1.  Data Acquisition\n",
    "-   Data cleaning\n",
    "-   Exploratory data analysis\n",
    "-   Regressiong Model\n",
    "-   Clasification Model\n",
    "-   Model Evaluation"
   ]
  },
  {
   "cell_type": "code",
   "execution_count": 1,
   "metadata": {},
   "outputs": [],
   "source": [
    "# !conda install -c anaconda seaborn -y"
   ]
  },
  {
   "cell_type": "code",
   "execution_count": 2,
   "metadata": {},
   "outputs": [],
   "source": [
    "import itertools\n",
    "import numpy as np\n",
    "import matplotlib.pyplot as plt\n",
    "from matplotlib.ticker import NullFormatter\n",
    "import pandas as pd\n",
    "import numpy as np\n",
    "import matplotlib.ticker as ticker\n",
    "from sklearn import preprocessing\n",
    "import seaborn as sns\n",
    "%matplotlib inline"
   ]
  },
  {
   "cell_type": "markdown",
   "metadata": {},
   "source": [
    "# 1. Data Acquisition\n",
    "We download the the dataset [National Collision Database](https://open.canada.ca/data/en/dataset/1eb9eba7-71d1-4b30-9fb1-30cbdab7e63a) and save it as __\"NCDB.csv\"__. It includes following fields:\n",
    "\n",
    "| Field          | Description                                                                           |\n",
    "|----------------|---------------------------------------------------------------------------------------|\n",
    "| C_WDAY         | WDay of week                                        |\n",
    "| C_SEV          | Collision severity                                                   |\n",
    "| C_VEHS         | Number of vehicles involved in collision |\n",
    "| C_CONF         | Collision configuration                                         |\n",
    "| C_RCFG         | Roadway configuration              |\n",
    "| C_WTHR         | Weather condition|\n",
    "| C_RSUR         | Road surface|\n",
    "| C_RALN         | Road alignment|\n",
    "| C_TRAF         | Traffic control|\n",
    "\n",
    "A detailed data dictionary can be found [here](https://opendatatc.blob.core.windows.net/opendatatc/NCDB_Data_Dictionary.docx)"
   ]
  },
  {
   "cell_type": "code",
   "execution_count": 3,
   "metadata": {},
   "outputs": [
    {
     "name": "stderr",
     "output_type": "stream",
     "text": [
      "/Users/hanrong/opt/anaconda3/lib/python3.7/site-packages/IPython/core/interactiveshell.py:3063: DtypeWarning: Columns (1,2,5,12) have mixed types.Specify dtype option on import or set low_memory=False.\n",
      "  interactivity=interactivity, compiler=compiler, result=result)\n"
     ]
    }
   ],
   "source": [
    "# Read the online file by the URL provides above, and assign it to variable \"df\"\n",
    "# other_path = \"https://opendatatc.blob.core.windows.net/opendatatc/NCDB_1999_to_2017.csv\"\n",
    "file_path = 'NCDB_1999_to_2017.csv'\n",
    "ori_df = pd.read_csv(file_path)"
   ]
  },
  {
   "cell_type": "code",
   "execution_count": 4,
   "metadata": {},
   "outputs": [
    {
     "data": {
      "text/html": [
       "<div>\n",
       "<style scoped>\n",
       "    .dataframe tbody tr th:only-of-type {\n",
       "        vertical-align: middle;\n",
       "    }\n",
       "\n",
       "    .dataframe tbody tr th {\n",
       "        vertical-align: top;\n",
       "    }\n",
       "\n",
       "    .dataframe thead th {\n",
       "        text-align: right;\n",
       "    }\n",
       "</style>\n",
       "<table border=\"1\" class=\"dataframe\">\n",
       "  <thead>\n",
       "    <tr style=\"text-align: right;\">\n",
       "      <th></th>\n",
       "      <th>C_YEAR</th>\n",
       "      <th>C_MNTH</th>\n",
       "      <th>C_WDAY</th>\n",
       "      <th>C_HOUR</th>\n",
       "      <th>C_SEV</th>\n",
       "      <th>C_VEHS</th>\n",
       "      <th>C_CONF</th>\n",
       "      <th>C_RCFG</th>\n",
       "      <th>C_WTHR</th>\n",
       "      <th>C_RSUR</th>\n",
       "      <th>...</th>\n",
       "      <th>V_TYPE</th>\n",
       "      <th>V_YEAR</th>\n",
       "      <th>P_ID</th>\n",
       "      <th>P_SEX</th>\n",
       "      <th>P_AGE</th>\n",
       "      <th>P_PSN</th>\n",
       "      <th>P_ISEV</th>\n",
       "      <th>P_SAFE</th>\n",
       "      <th>P_USER</th>\n",
       "      <th>C_CASE</th>\n",
       "    </tr>\n",
       "  </thead>\n",
       "  <tbody>\n",
       "    <tr>\n",
       "      <th>0</th>\n",
       "      <td>1999</td>\n",
       "      <td>1</td>\n",
       "      <td>1</td>\n",
       "      <td>20</td>\n",
       "      <td>2</td>\n",
       "      <td>02</td>\n",
       "      <td>34</td>\n",
       "      <td>UU</td>\n",
       "      <td>1</td>\n",
       "      <td>5</td>\n",
       "      <td>...</td>\n",
       "      <td>06</td>\n",
       "      <td>1990</td>\n",
       "      <td>01</td>\n",
       "      <td>M</td>\n",
       "      <td>41</td>\n",
       "      <td>11</td>\n",
       "      <td>1</td>\n",
       "      <td>UU</td>\n",
       "      <td>1</td>\n",
       "      <td>752</td>\n",
       "    </tr>\n",
       "    <tr>\n",
       "      <th>1</th>\n",
       "      <td>1999</td>\n",
       "      <td>1</td>\n",
       "      <td>1</td>\n",
       "      <td>20</td>\n",
       "      <td>2</td>\n",
       "      <td>02</td>\n",
       "      <td>34</td>\n",
       "      <td>UU</td>\n",
       "      <td>1</td>\n",
       "      <td>5</td>\n",
       "      <td>...</td>\n",
       "      <td>01</td>\n",
       "      <td>1987</td>\n",
       "      <td>01</td>\n",
       "      <td>M</td>\n",
       "      <td>19</td>\n",
       "      <td>11</td>\n",
       "      <td>1</td>\n",
       "      <td>UU</td>\n",
       "      <td>1</td>\n",
       "      <td>752</td>\n",
       "    </tr>\n",
       "    <tr>\n",
       "      <th>2</th>\n",
       "      <td>1999</td>\n",
       "      <td>1</td>\n",
       "      <td>1</td>\n",
       "      <td>20</td>\n",
       "      <td>2</td>\n",
       "      <td>02</td>\n",
       "      <td>34</td>\n",
       "      <td>UU</td>\n",
       "      <td>1</td>\n",
       "      <td>5</td>\n",
       "      <td>...</td>\n",
       "      <td>01</td>\n",
       "      <td>1987</td>\n",
       "      <td>02</td>\n",
       "      <td>F</td>\n",
       "      <td>20</td>\n",
       "      <td>13</td>\n",
       "      <td>2</td>\n",
       "      <td>02</td>\n",
       "      <td>2</td>\n",
       "      <td>752</td>\n",
       "    </tr>\n",
       "    <tr>\n",
       "      <th>3</th>\n",
       "      <td>1999</td>\n",
       "      <td>1</td>\n",
       "      <td>1</td>\n",
       "      <td>08</td>\n",
       "      <td>2</td>\n",
       "      <td>01</td>\n",
       "      <td>01</td>\n",
       "      <td>UU</td>\n",
       "      <td>5</td>\n",
       "      <td>3</td>\n",
       "      <td>...</td>\n",
       "      <td>01</td>\n",
       "      <td>1986</td>\n",
       "      <td>01</td>\n",
       "      <td>M</td>\n",
       "      <td>46</td>\n",
       "      <td>11</td>\n",
       "      <td>1</td>\n",
       "      <td>UU</td>\n",
       "      <td>1</td>\n",
       "      <td>753</td>\n",
       "    </tr>\n",
       "    <tr>\n",
       "      <th>4</th>\n",
       "      <td>1999</td>\n",
       "      <td>1</td>\n",
       "      <td>1</td>\n",
       "      <td>08</td>\n",
       "      <td>2</td>\n",
       "      <td>01</td>\n",
       "      <td>01</td>\n",
       "      <td>UU</td>\n",
       "      <td>5</td>\n",
       "      <td>3</td>\n",
       "      <td>...</td>\n",
       "      <td>NN</td>\n",
       "      <td>NNNN</td>\n",
       "      <td>01</td>\n",
       "      <td>M</td>\n",
       "      <td>05</td>\n",
       "      <td>99</td>\n",
       "      <td>2</td>\n",
       "      <td>UU</td>\n",
       "      <td>3</td>\n",
       "      <td>753</td>\n",
       "    </tr>\n",
       "  </tbody>\n",
       "</table>\n",
       "<p>5 rows × 23 columns</p>\n",
       "</div>"
      ],
      "text/plain": [
       "   C_YEAR C_MNTH C_WDAY C_HOUR  C_SEV C_VEHS C_CONF C_RCFG C_WTHR C_RSUR  ...  \\\n",
       "0    1999      1      1     20      2     02     34     UU      1      5  ...   \n",
       "1    1999      1      1     20      2     02     34     UU      1      5  ...   \n",
       "2    1999      1      1     20      2     02     34     UU      1      5  ...   \n",
       "3    1999      1      1     08      2     01     01     UU      5      3  ...   \n",
       "4    1999      1      1     08      2     01     01     UU      5      3  ...   \n",
       "\n",
       "  V_TYPE V_YEAR P_ID P_SEX P_AGE P_PSN P_ISEV P_SAFE P_USER C_CASE  \n",
       "0     06   1990   01     M    41    11      1     UU      1    752  \n",
       "1     01   1987   01     M    19    11      1     UU      1    752  \n",
       "2     01   1987   02     F    20    13      2     02      2    752  \n",
       "3     01   1986   01     M    46    11      1     UU      1    753  \n",
       "4     NN   NNNN   01     M    05    99      2     UU      3    753  \n",
       "\n",
       "[5 rows x 23 columns]"
      ]
     },
     "execution_count": 4,
     "metadata": {},
     "output_type": "execute_result"
    }
   ],
   "source": [
    "# source_df=source_df[source_df['C_YEAR']<=2010]\n",
    "ori_df.head()"
   ]
  },
  {
   "cell_type": "code",
   "execution_count": 5,
   "metadata": {},
   "outputs": [
    {
     "name": "stdout",
     "output_type": "stream",
     "text": [
      "The first 5 rows of the dataframe\n"
     ]
    },
    {
     "data": {
      "text/html": [
       "<div>\n",
       "<style scoped>\n",
       "    .dataframe tbody tr th:only-of-type {\n",
       "        vertical-align: middle;\n",
       "    }\n",
       "\n",
       "    .dataframe tbody tr th {\n",
       "        vertical-align: top;\n",
       "    }\n",
       "\n",
       "    .dataframe thead th {\n",
       "        text-align: right;\n",
       "    }\n",
       "</style>\n",
       "<table border=\"1\" class=\"dataframe\">\n",
       "  <thead>\n",
       "    <tr style=\"text-align: right;\">\n",
       "      <th></th>\n",
       "      <th>C_WDAY</th>\n",
       "      <th>C_SEV</th>\n",
       "      <th>C_VEHS</th>\n",
       "      <th>C_CONF</th>\n",
       "      <th>C_RCFG</th>\n",
       "      <th>C_WTHR</th>\n",
       "      <th>C_RSUR</th>\n",
       "      <th>C_RALN</th>\n",
       "      <th>C_TRAF</th>\n",
       "    </tr>\n",
       "  </thead>\n",
       "  <tbody>\n",
       "    <tr>\n",
       "      <th>0</th>\n",
       "      <td>1</td>\n",
       "      <td>2</td>\n",
       "      <td>02</td>\n",
       "      <td>34</td>\n",
       "      <td>UU</td>\n",
       "      <td>1</td>\n",
       "      <td>5</td>\n",
       "      <td>3</td>\n",
       "      <td>03</td>\n",
       "    </tr>\n",
       "    <tr>\n",
       "      <th>1</th>\n",
       "      <td>1</td>\n",
       "      <td>2</td>\n",
       "      <td>02</td>\n",
       "      <td>34</td>\n",
       "      <td>UU</td>\n",
       "      <td>1</td>\n",
       "      <td>5</td>\n",
       "      <td>3</td>\n",
       "      <td>03</td>\n",
       "    </tr>\n",
       "    <tr>\n",
       "      <th>2</th>\n",
       "      <td>1</td>\n",
       "      <td>2</td>\n",
       "      <td>02</td>\n",
       "      <td>34</td>\n",
       "      <td>UU</td>\n",
       "      <td>1</td>\n",
       "      <td>5</td>\n",
       "      <td>3</td>\n",
       "      <td>03</td>\n",
       "    </tr>\n",
       "    <tr>\n",
       "      <th>3</th>\n",
       "      <td>1</td>\n",
       "      <td>2</td>\n",
       "      <td>01</td>\n",
       "      <td>01</td>\n",
       "      <td>UU</td>\n",
       "      <td>5</td>\n",
       "      <td>3</td>\n",
       "      <td>6</td>\n",
       "      <td>18</td>\n",
       "    </tr>\n",
       "    <tr>\n",
       "      <th>4</th>\n",
       "      <td>1</td>\n",
       "      <td>2</td>\n",
       "      <td>01</td>\n",
       "      <td>01</td>\n",
       "      <td>UU</td>\n",
       "      <td>5</td>\n",
       "      <td>3</td>\n",
       "      <td>6</td>\n",
       "      <td>18</td>\n",
       "    </tr>\n",
       "  </tbody>\n",
       "</table>\n",
       "</div>"
      ],
      "text/plain": [
       "  C_WDAY  C_SEV C_VEHS C_CONF C_RCFG C_WTHR C_RSUR C_RALN C_TRAF\n",
       "0      1      2     02     34     UU      1      5      3     03\n",
       "1      1      2     02     34     UU      1      5      3     03\n",
       "2      1      2     02     34     UU      1      5      3     03\n",
       "3      1      2     01     01     UU      5      3      6     18\n",
       "4      1      2     01     01     UU      5      3      6     18"
      ]
     },
     "execution_count": 5,
     "metadata": {},
     "output_type": "execute_result"
    }
   ],
   "source": [
    "# let's drop unrelative columns, Vehicle level data elements, and Person level data elements\n",
    "# our purpose is to predict the severity of an accident with datas like Roadway configuration, Weather condition, Road surface, Road alignment, Traffic control\n",
    "# So we will keep only the Collision level data. \n",
    "\n",
    "ori_df = ori_df[['C_WDAY','C_SEV', 'C_VEHS','C_CONF','C_RCFG','C_WTHR', 'C_RSUR', 'C_RALN', 'C_TRAF']]\n",
    "# show the first 5 rows using dataframe.head() method\n",
    "print(\"The first 5 rows of the dataframe\") \n",
    "ori_df.head(5)"
   ]
  },
  {
   "cell_type": "markdown",
   "metadata": {},
   "source": [
    "## Basic Insight of Dataset"
   ]
  },
  {
   "cell_type": "code",
   "execution_count": 6,
   "metadata": {},
   "outputs": [
    {
     "name": "stdout",
     "output_type": "stream",
     "text": [
      "C_WDAY    object\n",
      "C_SEV      int64\n",
      "C_VEHS    object\n",
      "C_CONF    object\n",
      "C_RCFG    object\n",
      "C_WTHR    object\n",
      "C_RSUR    object\n",
      "C_RALN    object\n",
      "C_TRAF    object\n",
      "dtype: object\n",
      "(6772563, 9)\n"
     ]
    }
   ],
   "source": [
    "print(ori_df.dtypes)\n",
    "print(ori_df.shape)"
   ]
  },
  {
   "cell_type": "code",
   "execution_count": 7,
   "metadata": {},
   "outputs": [
    {
     "data": {
      "text/plain": [
       "2    6660073\n",
       "1     112490\n",
       "Name: C_SEV, dtype: int64"
      ]
     },
     "execution_count": 7,
     "metadata": {},
     "output_type": "execute_result"
    }
   ],
   "source": [
    "# let's see if C_SEV column has nan values ('Q' or 'X')\n",
    "ori_df['C_SEV'].value_counts()"
   ]
  },
  {
   "cell_type": "code",
   "execution_count": 8,
   "metadata": {},
   "outputs": [],
   "source": [
    "# source_df = ori_df.sample(frac=0.3,random_state=4)\n",
    "source_df = ori_df"
   ]
  },
  {
   "cell_type": "code",
   "execution_count": 9,
   "metadata": {},
   "outputs": [
    {
     "data": {
      "text/plain": [
       "2    6660073\n",
       "1     112490\n",
       "Name: C_SEV, dtype: int64"
      ]
     },
     "execution_count": 9,
     "metadata": {},
     "output_type": "execute_result"
    }
   ],
   "source": [
    "source_df['C_SEV'].value_counts()"
   ]
  },
  {
   "cell_type": "markdown",
   "metadata": {},
   "source": [
    "# 2. Data Cleaning\n",
    "## 2.1 Identify and handle missing values\n",
    "\n",
    "<h3>Convert unknown values to NaN</h3>\n",
    "In the dataset, missing data comes with \"Q\",\"U\",\"X\",\"QQ\",\"UU\" or \"XX\".\n",
    "We replace them with NaN (Not a Number), which is Python's default missing value marker, for reasons of computational speed and convenience. "
   ]
  },
  {
   "cell_type": "code",
   "execution_count": 10,
   "metadata": {},
   "outputs": [
    {
     "data": {
      "text/html": [
       "<div>\n",
       "<style scoped>\n",
       "    .dataframe tbody tr th:only-of-type {\n",
       "        vertical-align: middle;\n",
       "    }\n",
       "\n",
       "    .dataframe tbody tr th {\n",
       "        vertical-align: top;\n",
       "    }\n",
       "\n",
       "    .dataframe thead th {\n",
       "        text-align: right;\n",
       "    }\n",
       "</style>\n",
       "<table border=\"1\" class=\"dataframe\">\n",
       "  <thead>\n",
       "    <tr style=\"text-align: right;\">\n",
       "      <th></th>\n",
       "      <th>C_WDAY</th>\n",
       "      <th>C_SEV</th>\n",
       "      <th>C_VEHS</th>\n",
       "      <th>C_CONF</th>\n",
       "      <th>C_RCFG</th>\n",
       "      <th>C_WTHR</th>\n",
       "      <th>C_RSUR</th>\n",
       "      <th>C_RALN</th>\n",
       "      <th>C_TRAF</th>\n",
       "    </tr>\n",
       "  </thead>\n",
       "  <tbody>\n",
       "    <tr>\n",
       "      <th>0</th>\n",
       "      <td>1</td>\n",
       "      <td>2</td>\n",
       "      <td>02</td>\n",
       "      <td>34</td>\n",
       "      <td>NaN</td>\n",
       "      <td>1</td>\n",
       "      <td>5</td>\n",
       "      <td>3</td>\n",
       "      <td>03</td>\n",
       "    </tr>\n",
       "    <tr>\n",
       "      <th>1</th>\n",
       "      <td>1</td>\n",
       "      <td>2</td>\n",
       "      <td>02</td>\n",
       "      <td>34</td>\n",
       "      <td>NaN</td>\n",
       "      <td>1</td>\n",
       "      <td>5</td>\n",
       "      <td>3</td>\n",
       "      <td>03</td>\n",
       "    </tr>\n",
       "    <tr>\n",
       "      <th>2</th>\n",
       "      <td>1</td>\n",
       "      <td>2</td>\n",
       "      <td>02</td>\n",
       "      <td>34</td>\n",
       "      <td>NaN</td>\n",
       "      <td>1</td>\n",
       "      <td>5</td>\n",
       "      <td>3</td>\n",
       "      <td>03</td>\n",
       "    </tr>\n",
       "    <tr>\n",
       "      <th>3</th>\n",
       "      <td>1</td>\n",
       "      <td>2</td>\n",
       "      <td>01</td>\n",
       "      <td>01</td>\n",
       "      <td>NaN</td>\n",
       "      <td>5</td>\n",
       "      <td>3</td>\n",
       "      <td>6</td>\n",
       "      <td>18</td>\n",
       "    </tr>\n",
       "    <tr>\n",
       "      <th>4</th>\n",
       "      <td>1</td>\n",
       "      <td>2</td>\n",
       "      <td>01</td>\n",
       "      <td>01</td>\n",
       "      <td>NaN</td>\n",
       "      <td>5</td>\n",
       "      <td>3</td>\n",
       "      <td>6</td>\n",
       "      <td>18</td>\n",
       "    </tr>\n",
       "  </tbody>\n",
       "</table>\n",
       "</div>"
      ],
      "text/plain": [
       "  C_WDAY  C_SEV C_VEHS C_CONF C_RCFG C_WTHR C_RSUR C_RALN C_TRAF\n",
       "0      1      2     02     34    NaN      1      5      3     03\n",
       "1      1      2     02     34    NaN      1      5      3     03\n",
       "2      1      2     02     34    NaN      1      5      3     03\n",
       "3      1      2     01     01    NaN      5      3      6     18\n",
       "4      1      2     01     01    NaN      5      3      6     18"
      ]
     },
     "execution_count": 10,
     "metadata": {},
     "output_type": "execute_result"
    }
   ],
   "source": [
    "import numpy as np\n",
    "\n",
    "# replace \"Q\",\"U\",\"X\",\"QQ\",\"UU\" or \"XX\" to NaN\n",
    "source_df.replace(\"Q\", np.nan, inplace = True)\n",
    "source_df.replace(\"U\", np.nan, inplace = True)\n",
    "source_df.replace(\"X\", np.nan, inplace = True)\n",
    "source_df.replace(\"QQ\", np.nan, inplace = True)\n",
    "source_df.replace(\"UU\", np.nan, inplace = True)\n",
    "source_df.replace(\"XX\", np.nan, inplace = True)\n",
    "source_df.head(5)"
   ]
  },
  {
   "cell_type": "markdown",
   "metadata": {},
   "source": [
    "<h3>Evaluating for Missing Data</h3>"
   ]
  },
  {
   "cell_type": "code",
   "execution_count": 11,
   "metadata": {},
   "outputs": [
    {
     "name": "stdout",
     "output_type": "stream",
     "text": [
      "C_WDAY      1364\n",
      "C_SEV          0\n",
      "C_VEHS       567\n",
      "C_CONF    542188\n",
      "C_RCFG    722186\n",
      "C_WTHR    115738\n",
      "C_RSUR    278395\n",
      "C_RALN    509655\n",
      "C_TRAF    359944\n",
      "dtype: int64\n"
     ]
    }
   ],
   "source": [
    "print(source_df.isnull().sum())"
   ]
  },
  {
   "cell_type": "code",
   "execution_count": 12,
   "metadata": {},
   "outputs": [
    {
     "name": "stdout",
     "output_type": "stream",
     "text": [
      "C_WDAY\n",
      "False    6771199\n",
      "True        1364\n",
      "Name: C_WDAY, dtype: int64\n",
      "\n",
      "C_SEV\n",
      "False    6772563\n",
      "Name: C_SEV, dtype: int64\n",
      "\n",
      "C_VEHS\n",
      "False    6771996\n",
      "True         567\n",
      "Name: C_VEHS, dtype: int64\n",
      "\n",
      "C_CONF\n",
      "False    6230375\n",
      "True      542188\n",
      "Name: C_CONF, dtype: int64\n",
      "\n",
      "C_RCFG\n",
      "False    6050377\n",
      "True      722186\n",
      "Name: C_RCFG, dtype: int64\n",
      "\n",
      "C_WTHR\n",
      "False    6656825\n",
      "True      115738\n",
      "Name: C_WTHR, dtype: int64\n",
      "\n",
      "C_RSUR\n",
      "False    6494168\n",
      "True      278395\n",
      "Name: C_RSUR, dtype: int64\n",
      "\n",
      "C_RALN\n",
      "False    6262908\n",
      "True      509655\n",
      "Name: C_RALN, dtype: int64\n",
      "\n",
      "C_TRAF\n",
      "False    6412619\n",
      "True      359944\n",
      "Name: C_TRAF, dtype: int64\n",
      "\n"
     ]
    }
   ],
   "source": [
    "# dentify_missing_values\n",
    "missing_data = source_df.isnull()\n",
    "# Count missing values in each column\n",
    "for column in missing_data.columns.values.tolist():\n",
    "    print(column)\n",
    "    print (missing_data[column].value_counts())\n",
    "    print(\"\")   "
   ]
  },
  {
   "cell_type": "markdown",
   "metadata": {},
   "source": [
    "### Drop the whole row with missing values"
   ]
  },
  {
   "cell_type": "code",
   "execution_count": 13,
   "metadata": {},
   "outputs": [
    {
     "data": {
      "text/plain": [
       "(5210874, 9)"
      ]
     },
     "execution_count": 13,
     "metadata": {},
     "output_type": "execute_result"
    }
   ],
   "source": [
    "# simply drop whole row with NaN in \"price\" column\n",
    "# [\"C_RCFG\",\"C_WTHR\",\"C_RSUR\",\"C_RALN\",\"C_TRAF\"]\n",
    "source_df.dropna(subset=source_df.columns, axis=0, inplace=True)\n",
    "\n",
    "# reset index, because we droped rows\n",
    "source_df.reset_index(drop=True, inplace=True)\n",
    "\n",
    "source_df.shape"
   ]
  },
  {
   "cell_type": "code",
   "execution_count": 14,
   "metadata": {},
   "outputs": [
    {
     "data": {
      "text/html": [
       "<div>\n",
       "<style scoped>\n",
       "    .dataframe tbody tr th:only-of-type {\n",
       "        vertical-align: middle;\n",
       "    }\n",
       "\n",
       "    .dataframe tbody tr th {\n",
       "        vertical-align: top;\n",
       "    }\n",
       "\n",
       "    .dataframe thead th {\n",
       "        text-align: right;\n",
       "    }\n",
       "</style>\n",
       "<table border=\"1\" class=\"dataframe\">\n",
       "  <thead>\n",
       "    <tr style=\"text-align: right;\">\n",
       "      <th></th>\n",
       "      <th>C_WDAY</th>\n",
       "      <th>C_SEV</th>\n",
       "      <th>C_VEHS</th>\n",
       "      <th>C_CONF</th>\n",
       "      <th>C_RCFG</th>\n",
       "      <th>C_WTHR</th>\n",
       "      <th>C_RSUR</th>\n",
       "      <th>C_RALN</th>\n",
       "      <th>C_TRAF</th>\n",
       "    </tr>\n",
       "  </thead>\n",
       "  <tbody>\n",
       "    <tr>\n",
       "      <th>0</th>\n",
       "      <td>1</td>\n",
       "      <td>2</td>\n",
       "      <td>02</td>\n",
       "      <td>34</td>\n",
       "      <td>02</td>\n",
       "      <td>1</td>\n",
       "      <td>1</td>\n",
       "      <td>1</td>\n",
       "      <td>01</td>\n",
       "    </tr>\n",
       "    <tr>\n",
       "      <th>1</th>\n",
       "      <td>1</td>\n",
       "      <td>2</td>\n",
       "      <td>02</td>\n",
       "      <td>34</td>\n",
       "      <td>02</td>\n",
       "      <td>1</td>\n",
       "      <td>1</td>\n",
       "      <td>1</td>\n",
       "      <td>01</td>\n",
       "    </tr>\n",
       "    <tr>\n",
       "      <th>2</th>\n",
       "      <td>1</td>\n",
       "      <td>2</td>\n",
       "      <td>02</td>\n",
       "      <td>34</td>\n",
       "      <td>02</td>\n",
       "      <td>1</td>\n",
       "      <td>1</td>\n",
       "      <td>1</td>\n",
       "      <td>01</td>\n",
       "    </tr>\n",
       "    <tr>\n",
       "      <th>3</th>\n",
       "      <td>1</td>\n",
       "      <td>2</td>\n",
       "      <td>01</td>\n",
       "      <td>03</td>\n",
       "      <td>03</td>\n",
       "      <td>1</td>\n",
       "      <td>1</td>\n",
       "      <td>3</td>\n",
       "      <td>05</td>\n",
       "    </tr>\n",
       "    <tr>\n",
       "      <th>4</th>\n",
       "      <td>1</td>\n",
       "      <td>2</td>\n",
       "      <td>02</td>\n",
       "      <td>33</td>\n",
       "      <td>02</td>\n",
       "      <td>1</td>\n",
       "      <td>1</td>\n",
       "      <td>1</td>\n",
       "      <td>05</td>\n",
       "    </tr>\n",
       "  </tbody>\n",
       "</table>\n",
       "</div>"
      ],
      "text/plain": [
       "  C_WDAY  C_SEV C_VEHS C_CONF C_RCFG C_WTHR C_RSUR C_RALN C_TRAF\n",
       "0      1      2     02     34     02      1      1      1     01\n",
       "1      1      2     02     34     02      1      1      1     01\n",
       "2      1      2     02     34     02      1      1      1     01\n",
       "3      1      2     01     03     03      1      1      3     05\n",
       "4      1      2     02     33     02      1      1      1     05"
      ]
     },
     "execution_count": 14,
     "metadata": {},
     "output_type": "execute_result"
    }
   ],
   "source": [
    "source_df.head()"
   ]
  },
  {
   "cell_type": "markdown",
   "metadata": {},
   "source": [
    "## 2.2 Resampling"
   ]
  },
  {
   "cell_type": "code",
   "execution_count": 15,
   "metadata": {},
   "outputs": [
    {
     "data": {
      "text/plain": [
       "2    5124551\n",
       "1      86323\n",
       "Name: C_SEV, dtype: int64"
      ]
     },
     "execution_count": 15,
     "metadata": {},
     "output_type": "execute_result"
    }
   ],
   "source": [
    "# check the counts of value of the dependent variable \"C_SEV\"\n",
    "source_df['C_SEV'].value_counts()"
   ]
  },
  {
   "cell_type": "markdown",
   "metadata": {},
   "source": [
    "We can see that this is an imbalanced dataset, so we need to resample it first.\n",
    "__Resampling__\n",
    "A widely adopted technique for dealing with highly unbalanced datasets is called resampling. It consists of removing samples from the majority class (under-sampling) and / or adding more examples from the minority class (over-sampling).\n",
    "\n",
    "![resampling](images/resampling.png)\n",
    "\n",
    "In this project, as we have quite data, we use the __Random under-sampling__ method. \n"
   ]
  },
  {
   "cell_type": "code",
   "execution_count": 16,
   "metadata": {},
   "outputs": [
    {
     "data": {
      "image/png": "[encoded data removed]",
      "text/plain": [
       "<Figure size 576x576 with 1 Axes>"
      ]
     },
     "metadata": {
      "needs_background": "light"
     },
     "output_type": "display_data"
    }
   ],
   "source": [
    "num=86323\n",
    "\n",
    "# Shuffle the Dataset.\n",
    "shuffled_df = source_df.sample(frac=1,random_state=4)\n",
    "\n",
    "# Put all minority class in a separate dataset.\n",
    "df_1 = shuffled_df.loc[shuffled_df['C_SEV'] == 1]\n",
    "\n",
    "#Randomly select 3591 observations from the majority class\n",
    "rdm_df2 = shuffled_df.loc[shuffled_df['C_SEV'] == 2 ].sample(n=num,random_state=10)\n",
    "\n",
    "# Concatenate both dataframes again\n",
    "resampled_df = pd.concat([df_1, rdm_df2])\n",
    "\n",
    "#plot the dataset after the undersampling\n",
    "plt.figure(figsize=(8, 8))\n",
    "sns.countplot('C_SEV', data=resampled_df)\n",
    "plt.title('Balanced Classes')\n",
    "plt.show()"
   ]
  },
  {
   "cell_type": "markdown",
   "metadata": {},
   "source": [
    "## 2.3 Correct data format"
   ]
  },
  {
   "cell_type": "code",
   "execution_count": 17,
   "metadata": {},
   "outputs": [
    {
     "data": {
      "text/plain": [
       "C_WDAY     int64\n",
       "C_SEV     object\n",
       "C_VEHS     int64\n",
       "C_CONF    object\n",
       "C_RCFG    object\n",
       "C_WTHR    object\n",
       "C_RSUR    object\n",
       "C_RALN    object\n",
       "C_TRAF    object\n",
       "dtype: object"
      ]
     },
     "execution_count": 17,
     "metadata": {},
     "output_type": "execute_result"
    }
   ],
   "source": [
    "df = resampled_df\n",
    "# format all fields as string except C_VEHS as int\n",
    "df = df.astype(str)\n",
    "for column in df.columns:\n",
    "    df[[column]] = df[[column]].astype(\"object\")\n",
    "df[[\"C_VEHS\"]] = df[[\"C_VEHS\"]].astype(\"int\")\n",
    "df[[\"C_WDAY\"]] = df[[\"C_WDAY\"]].astype(\"int\")\n",
    "df.dtypes"
   ]
  },
  {
   "cell_type": "code",
   "execution_count": 18,
   "metadata": {},
   "outputs": [
    {
     "name": "stdout",
     "output_type": "stream",
     "text": [
      "C_WDAY\n",
      "5    29101\n",
      "6    27842\n",
      "4    24551\n",
      "7    24188\n",
      "2    22625\n",
      "3    22426\n",
      "1    21913\n",
      "Name: C_WDAY, dtype: int64\n",
      "\n",
      "C_SEV\n",
      "2    86323\n",
      "1    86323\n",
      "Name: C_SEV, dtype: int64\n",
      "\n",
      "C_VEHS\n",
      "2     96480\n",
      "1     46485\n",
      "3     20426\n",
      "4      5611\n",
      "5      1601\n",
      "6       719\n",
      "7       331\n",
      "8       138\n",
      "71       92\n",
      "9        83\n",
      "38       61\n",
      "17       59\n",
      "56       58\n",
      "20       57\n",
      "11       47\n",
      "21       44\n",
      "32       42\n",
      "40       41\n",
      "37       41\n",
      "12       41\n",
      "15       41\n",
      "30       34\n",
      "13       26\n",
      "14       24\n",
      "10       21\n",
      "16       20\n",
      "18        4\n",
      "36        4\n",
      "57        3\n",
      "29        2\n",
      "35        2\n",
      "27        1\n",
      "39        1\n",
      "25        1\n",
      "26        1\n",
      "19        1\n",
      "24        1\n",
      "22        1\n",
      "33        1\n",
      "Name: C_VEHS, dtype: int64\n",
      "\n",
      "C_CONF\n",
      "21    34815\n",
      "35    26037\n",
      "31    23971\n",
      "06    22235\n",
      "36    11586\n",
      "33    10705\n",
      "04     8867\n",
      "03     7135\n",
      "02     6904\n",
      "22     6246\n",
      "01     3760\n",
      "41     2462\n",
      "32     2241\n",
      "23     1946\n",
      "34     1689\n",
      "24     1317\n",
      "05      447\n",
      "25      283\n",
      "Name: C_CONF, dtype: int64\n",
      "\n",
      "C_RCFG\n",
      "01    88306\n",
      "02    73347\n",
      "03     7659\n",
      "05     1751\n",
      "04      911\n",
      "06      301\n",
      "08      214\n",
      "07      101\n",
      "09       37\n",
      "10       19\n",
      "Name: C_RCFG, dtype: int64\n",
      "\n",
      "C_WTHR\n",
      "1    121496\n",
      "2     18506\n",
      "3     16498\n",
      "4     10288\n",
      "6      4154\n",
      "5      1062\n",
      "7       642\n",
      "Name: C_WTHR, dtype: int64\n",
      "\n",
      "C_RSUR\n",
      "1    119414\n",
      "2     30748\n",
      "5     10269\n",
      "3      8021\n",
      "4      2492\n",
      "6      1464\n",
      "7       217\n",
      "8        17\n",
      "9         4\n",
      "Name: C_RSUR, dtype: int64\n",
      "\n",
      "C_RALN\n",
      "1    122309\n",
      "2     19658\n",
      "3     17088\n",
      "4     10842\n",
      "5      1565\n",
      "6      1184\n",
      "Name: C_RALN, dtype: int64\n",
      "\n",
      "C_TRAF\n",
      "18    112061\n",
      "01     35565\n",
      "03     20059\n",
      "04      1455\n",
      "06       805\n",
      "02       699\n",
      "08       629\n",
      "12       263\n",
      "15       262\n",
      "10       191\n",
      "05       178\n",
      "17       111\n",
      "11       110\n",
      "13        99\n",
      "16        88\n",
      "07        65\n",
      "09         6\n",
      "Name: C_TRAF, dtype: int64\n",
      "\n"
     ]
    }
   ],
   "source": [
    "# Check if exist values in different format\n",
    "for column in df.columns.values.tolist():\n",
    "    print(column)\n",
    "    print (df[column].value_counts())\n",
    "    print(\"\")   "
   ]
  },
  {
   "cell_type": "markdown",
   "metadata": {},
   "source": [
    "## 2.4 Binning Data"
   ]
  },
  {
   "cell_type": "markdown",
   "metadata": {},
   "source": [
    "**C_CONF** has too many values, we will bin the values in 4 types according to there description in data dictionary.\n",
    "- 01-06: Single Vehicle in Motion\n",
    "- 21-25: Two Vehicles in Motion - Same Direction of Travel\n",
    "- 31-36: Two Vehicles in Motion - Different Direction of Travel\n",
    "- 41: Two Vehicles - Hit a Parked Motor Vehicle"
   ]
  },
  {
   "cell_type": "code",
   "execution_count": 19,
   "metadata": {},
   "outputs": [
    {
     "data": {
      "text/plain": [
       "2-Vehicles-Different    76229\n",
       "1-Vehicle               49348\n",
       "2-Vehicles-Same         44607\n",
       "2-Vehicles-Parked        2462\n",
       "Name: C_CONF, dtype: int64"
      ]
     },
     "execution_count": 19,
     "metadata": {},
     "output_type": "execute_result"
    }
   ],
   "source": [
    "# C_CONF\n",
    "df[[\"C_CONF\"]] = df[[\"C_CONF\"]].astype(\"int\")\n",
    "bins = [0,20,30,40,50]\n",
    "group_names = ['1-Vehicle', '2-Vehicles-Same', '2-Vehicles-Different','2-Vehicles-Parked']\n",
    "df[['C_CONF']] = pd.cut(df['C_CONF'], bins, labels=group_names, include_lowest=True)\n",
    "\n",
    "# df['C_CONF_binned'].value_counts()\n",
    "df['C_CONF'].value_counts()"
   ]
  },
  {
   "cell_type": "markdown",
   "metadata": {},
   "source": [
    "Let's see how __C_VEHS__ affects __C_SEV__"
   ]
  },
  {
   "cell_type": "code",
   "execution_count": 20,
   "metadata": {},
   "outputs": [],
   "source": [
    "# # C_VEHS\n",
    "# df['C_VEHS'].value_counts()\n",
    "# bins = np.linspace(min(df[\"C_VEHS\"]), max(df[\"C_VEHS\"]), 4)\n",
    "# bins\n",
    "# # We set group names:\n",
    "# group_names = ['Small', 'Medium', 'Large']\n",
    "# # We apply the function \"cut\" the determine what each value of \"df['horsepower']\" belongs to.\n",
    "# df['C_VEHS-binned'] = pd.cut(df['C_VEHS'], bins, labels=group_names, include_lowest=True )\n",
    "# df[['C_VEHS','C_VEHS-binned']].head(20)\n",
    "# # Lets see the number of vehicles in each bin.\n",
    "# df[\"C_VEHS-binned\"].value_counts()"
   ]
  },
  {
   "cell_type": "code",
   "execution_count": 21,
   "metadata": {},
   "outputs": [
    {
     "data": {
      "text/html": [
       "<div>\n",
       "<style scoped>\n",
       "    .dataframe tbody tr th:only-of-type {\n",
       "        vertical-align: middle;\n",
       "    }\n",
       "\n",
       "    .dataframe tbody tr th {\n",
       "        vertical-align: top;\n",
       "    }\n",
       "\n",
       "    .dataframe thead th {\n",
       "        text-align: right;\n",
       "    }\n",
       "</style>\n",
       "<table border=\"1\" class=\"dataframe\">\n",
       "  <thead>\n",
       "    <tr style=\"text-align: right;\">\n",
       "      <th></th>\n",
       "      <th>C_WDAY</th>\n",
       "      <th>C_SEV</th>\n",
       "      <th>C_VEHS</th>\n",
       "      <th>C_CONF</th>\n",
       "      <th>C_RCFG</th>\n",
       "      <th>C_WTHR</th>\n",
       "      <th>C_RSUR</th>\n",
       "      <th>C_RALN</th>\n",
       "      <th>C_TRAF</th>\n",
       "    </tr>\n",
       "  </thead>\n",
       "  <tbody>\n",
       "    <tr>\n",
       "      <th>3600510</th>\n",
       "      <td>1</td>\n",
       "      <td>sev1</td>\n",
       "      <td>1</td>\n",
       "      <td>1-Vehicle</td>\n",
       "      <td>02</td>\n",
       "      <td>1</td>\n",
       "      <td>1</td>\n",
       "      <td>1</td>\n",
       "      <td>18</td>\n",
       "    </tr>\n",
       "    <tr>\n",
       "      <th>100547</th>\n",
       "      <td>4</td>\n",
       "      <td>sev1</td>\n",
       "      <td>3</td>\n",
       "      <td>2-Vehicles-Different</td>\n",
       "      <td>01</td>\n",
       "      <td>1</td>\n",
       "      <td>1</td>\n",
       "      <td>1</td>\n",
       "      <td>18</td>\n",
       "    </tr>\n",
       "    <tr>\n",
       "      <th>2367314</th>\n",
       "      <td>4</td>\n",
       "      <td>sev1</td>\n",
       "      <td>3</td>\n",
       "      <td>2-Vehicles-Different</td>\n",
       "      <td>01</td>\n",
       "      <td>1</td>\n",
       "      <td>1</td>\n",
       "      <td>4</td>\n",
       "      <td>18</td>\n",
       "    </tr>\n",
       "    <tr>\n",
       "      <th>2333244</th>\n",
       "      <td>2</td>\n",
       "      <td>sev1</td>\n",
       "      <td>1</td>\n",
       "      <td>1-Vehicle</td>\n",
       "      <td>01</td>\n",
       "      <td>1</td>\n",
       "      <td>1</td>\n",
       "      <td>1</td>\n",
       "      <td>18</td>\n",
       "    </tr>\n",
       "    <tr>\n",
       "      <th>3191276</th>\n",
       "      <td>7</td>\n",
       "      <td>sev1</td>\n",
       "      <td>2</td>\n",
       "      <td>2-Vehicles-Different</td>\n",
       "      <td>01</td>\n",
       "      <td>1</td>\n",
       "      <td>1</td>\n",
       "      <td>4</td>\n",
       "      <td>18</td>\n",
       "    </tr>\n",
       "  </tbody>\n",
       "</table>\n",
       "</div>"
      ],
      "text/plain": [
       "         C_WDAY C_SEV  C_VEHS                C_CONF C_RCFG C_WTHR C_RSUR  \\\n",
       "3600510       1  sev1       1             1-Vehicle     02      1      1   \n",
       "100547        4  sev1       3  2-Vehicles-Different     01      1      1   \n",
       "2367314       4  sev1       3  2-Vehicles-Different     01      1      1   \n",
       "2333244       2  sev1       1             1-Vehicle     01      1      1   \n",
       "3191276       7  sev1       2  2-Vehicles-Different     01      1      1   \n",
       "\n",
       "        C_RALN C_TRAF  \n",
       "3600510      1     18  \n",
       "100547       1     18  \n",
       "2367314      4     18  \n",
       "2333244      1     18  \n",
       "3191276      4     18  "
      ]
     },
     "execution_count": 21,
     "metadata": {},
     "output_type": "execute_result"
    }
   ],
   "source": [
    "df['C_SEV'].replace(to_replace=['1','2'], value=['sev1','sev2'],inplace=True)\n",
    "df.head()"
   ]
  },
  {
   "cell_type": "markdown",
   "metadata": {},
   "source": [
    "# 3. Pre-processing: Feature selection/extraction"
   ]
  },
  {
   "cell_type": "markdown",
   "metadata": {},
   "source": [
    "## Analyzing Individual Feature Patterns using Visualization\n",
    "Lets look at the relation between each feature and severity"
   ]
  },
  {
   "cell_type": "code",
   "execution_count": 22,
   "metadata": {},
   "outputs": [
    {
     "name": "stdout",
     "output_type": "stream",
     "text": [
      "normalized value_counts of C_WDAY\n",
      "C_WDAY  C_SEV\n",
      "1       sev2     0.521836\n",
      "        sev1     0.478164\n",
      "2       sev2     0.536530\n",
      "        sev1     0.463470\n",
      "3       sev2     0.543030\n",
      "        sev1     0.456970\n",
      "4       sev2     0.524378\n",
      "        sev1     0.475622\n",
      "5       sev2     0.504691\n",
      "        sev1     0.495309\n",
      "6       sev1     0.551649\n",
      "        sev2     0.448351\n",
      "7       sev1     0.564784\n",
      "        sev2     0.435216\n",
      "Name: C_SEV, dtype: float64\n",
      "normalized value_counts of C_SEV\n",
      "C_SEV  C_SEV\n",
      "sev1   sev1     1.0\n",
      "sev2   sev2     1.0\n",
      "Name: C_SEV, dtype: float64\n",
      "normalized value_counts of C_VEHS\n",
      "C_VEHS  C_SEV\n",
      "1       sev1     0.638206\n",
      "        sev2     0.361794\n",
      "2       sev2     0.561246\n",
      "        sev1     0.438754\n",
      "3       sev2     0.560805\n",
      "        sev1     0.439195\n",
      "4       sev1     0.501515\n",
      "        sev2     0.498485\n",
      "5       sev1     0.576515\n",
      "        sev2     0.423485\n",
      "6       sev1     0.719054\n",
      "        sev2     0.280946\n",
      "7       sev1     0.770393\n",
      "        sev2     0.229607\n",
      "8       sev1     0.652174\n",
      "        sev2     0.347826\n",
      "9       sev1     0.686747\n",
      "        sev2     0.313253\n",
      "10      sev1     0.523810\n",
      "        sev2     0.476190\n",
      "11      sev1     0.808511\n",
      "        sev2     0.191489\n",
      "12      sev1     0.951220\n",
      "        sev2     0.048780\n",
      "13      sev1     0.769231\n",
      "        sev2     0.230769\n",
      "14      sev1     0.583333\n",
      "        sev2     0.416667\n",
      "15      sev1     0.878049\n",
      "        sev2     0.121951\n",
      "16      sev1     1.000000\n",
      "17      sev1     1.000000\n",
      "18      sev2     1.000000\n",
      "19      sev2     1.000000\n",
      "20      sev1     0.912281\n",
      "        sev2     0.087719\n",
      "21      sev1     0.954545\n",
      "        sev2     0.045455\n",
      "22      sev2     1.000000\n",
      "24      sev2     1.000000\n",
      "25      sev2     1.000000\n",
      "26      sev2     1.000000\n",
      "27      sev2     1.000000\n",
      "29      sev2     1.000000\n",
      "30      sev1     1.000000\n",
      "32      sev1     1.000000\n",
      "33      sev2     1.000000\n",
      "35      sev2     1.000000\n",
      "36      sev2     1.000000\n",
      "37      sev1     1.000000\n",
      "38      sev1     0.967213\n",
      "        sev2     0.032787\n",
      "39      sev2     1.000000\n",
      "40      sev1     1.000000\n",
      "56      sev1     1.000000\n",
      "57      sev2     1.000000\n",
      "71      sev1     1.000000\n",
      "Name: C_SEV, dtype: float64\n",
      "normalized value_counts of C_CONF\n",
      "C_CONF                C_SEV\n",
      "1-Vehicle             sev1     0.639621\n",
      "                      sev2     0.360379\n",
      "2-Vehicles-Same       sev2     0.757123\n",
      "                      sev1     0.242877\n",
      "2-Vehicles-Different  sev1     0.559577\n",
      "                      sev2     0.440423\n",
      "2-Vehicles-Parked     sev1     0.515435\n",
      "                      sev2     0.484565\n",
      "Name: C_SEV, dtype: float64\n",
      "normalized value_counts of C_RCFG\n",
      "C_RCFG  C_SEV\n",
      "01      sev1     0.622925\n",
      "        sev2     0.377075\n",
      "02      sev2     0.635132\n",
      "        sev1     0.364868\n",
      "03      sev2     0.654524\n",
      "        sev1     0.345476\n",
      "04      sev1     0.615807\n",
      "        sev2     0.384193\n",
      "05      sev1     0.572244\n",
      "        sev2     0.427756\n",
      "06      sev1     0.627907\n",
      "        sev2     0.372093\n",
      "07      sev1     0.871287\n",
      "        sev2     0.128713\n",
      "08      sev2     0.766355\n",
      "        sev1     0.233645\n",
      "09      sev2     0.810811\n",
      "        sev1     0.189189\n",
      "10      sev1     0.526316\n",
      "        sev2     0.473684\n",
      "Name: C_SEV, dtype: float64\n",
      "normalized value_counts of C_WTHR\n",
      "C_WTHR  C_SEV\n",
      "1       sev2     0.508807\n",
      "        sev1     0.491193\n",
      "2       sev1     0.546039\n",
      "        sev2     0.453961\n",
      "3       sev2     0.565159\n",
      "        sev1     0.434841\n",
      "4       sev1     0.524689\n",
      "        sev2     0.475311\n",
      "5       sev1     0.594162\n",
      "        sev2     0.405838\n",
      "6       sev1     0.704141\n",
      "        sev2     0.295859\n",
      "7       sev1     0.641745\n",
      "        sev2     0.358255\n",
      "Name: C_SEV, dtype: float64\n",
      "normalized value_counts of C_RSUR\n",
      "C_RSUR  C_SEV\n",
      "1       sev1     0.502923\n",
      "        sev2     0.497077\n",
      "2       sev2     0.545987\n",
      "        sev1     0.454013\n",
      "3       sev1     0.526992\n",
      "        sev2     0.473008\n",
      "4       sev1     0.542135\n",
      "        sev2     0.457865\n",
      "5       sev1     0.537540\n",
      "        sev2     0.462460\n",
      "6       sev1     0.717896\n",
      "        sev2     0.282104\n",
      "7       sev1     0.695853\n",
      "        sev2     0.304147\n",
      "8       sev2     0.764706\n",
      "        sev1     0.235294\n",
      "9       sev1     0.750000\n",
      "        sev2     0.250000\n",
      "Name: C_SEV, dtype: float64\n",
      "normalized value_counts of C_RALN\n",
      "C_RALN  C_SEV\n",
      "1       sev2     0.556288\n",
      "        sev1     0.443712\n",
      "2       sev1     0.542934\n",
      "        sev2     0.457066\n",
      "3       sev1     0.693235\n",
      "        sev2     0.306765\n",
      "4       sev1     0.711954\n",
      "        sev2     0.288046\n",
      "5       sev1     0.657508\n",
      "        sev2     0.342492\n",
      "6       sev1     0.663851\n",
      "        sev2     0.336149\n",
      "Name: C_SEV, dtype: float64\n",
      "normalized value_counts of C_TRAF\n",
      "C_TRAF  C_SEV\n",
      "01      sev2     0.756137\n",
      "        sev1     0.243863\n",
      "02      sev1     0.527897\n",
      "        sev2     0.472103\n",
      "03      sev2     0.544593\n",
      "        sev1     0.455407\n",
      "04      sev2     0.706529\n",
      "        sev1     0.293471\n",
      "05      sev1     0.657303\n",
      "        sev2     0.342697\n",
      "06      sev2     0.652174\n",
      "        sev1     0.347826\n",
      "07      sev1     0.553846\n",
      "        sev2     0.446154\n",
      "08      sev2     0.643879\n",
      "        sev1     0.356121\n",
      "09      sev2     1.000000\n",
      "10      sev1     0.879581\n",
      "        sev2     0.120419\n",
      "11      sev1     0.727273\n",
      "        sev2     0.272727\n",
      "12      sev1     0.752852\n",
      "        sev2     0.247148\n",
      "13      sev2     0.707071\n",
      "        sev1     0.292929\n",
      "15      sev1     0.790076\n",
      "        sev2     0.209924\n",
      "16      sev1     0.829545\n",
      "        sev2     0.170455\n",
      "17      sev1     0.729730\n",
      "        sev2     0.270270\n",
      "18      sev1     0.590982\n",
      "        sev2     0.409018\n",
      "Name: C_SEV, dtype: float64\n"
     ]
    }
   ],
   "source": [
    "for column in df.columns:\n",
    "    print(\"normalized value_counts of \" + column)\n",
    "    print(df.groupby(column)['C_SEV'].value_counts(normalize=True))"
   ]
  },
  {
   "cell_type": "markdown",
   "metadata": {},
   "source": [
    "### Numerical Data"
   ]
  },
  {
   "cell_type": "code",
   "execution_count": 23,
   "metadata": {},
   "outputs": [
    {
     "data": {
      "text/plain": [
       "Text(0.5, 0, 'Number of vehicles involved in collision')"
      ]
     },
     "execution_count": 23,
     "metadata": {},
     "output_type": "execute_result"
    },
    {
     "data": {
      "image/png": "[encoded data removed]",
      "text/plain": [
       "<Figure size 432x288 with 1 Axes>"
      ]
     },
     "metadata": {
      "needs_background": "light"
     },
     "output_type": "display_data"
    }
   ],
   "source": [
    "# C_VEHS with C_SEV\n",
    "df[[\"C_SEV\"]] = df[[\"C_SEV\"]].astype(\"object\")\n",
    "bins = [1,2,3,4,5,10,20,30,40,50]\n",
    "ax = df.pivot(columns='C_SEV').C_VEHS.plot(kind = 'hist', stacked = True,\n",
    "                                           bins = bins,\n",
    "                                           xlim = (min(bins), max(bins)))\n",
    "ax.legend(loc='upper right')\n",
    "ax.set_title('Number of Occurrences according to Number of vehicles involved in collision')\n",
    "ax.set_ylabel('Number of Occurrences')\n",
    "ax.set_xlabel('Number of vehicles involved in collision')"
   ]
  },
  {
   "cell_type": "markdown",
   "metadata": {},
   "source": [
    "### Categorical Data"
   ]
  },
  {
   "cell_type": "code",
   "execution_count": 24,
   "metadata": {},
   "outputs": [],
   "source": [
    "# c_Feature = ['C_WDAY','C_CONF','C_RCFG','C_WTHR','C_RSUR','C_RALN','C_TRAF']\n",
    "# labels = [\"\",\"\",\"\",\"\",\"\",\"\",\"\"]\n",
    "# fig, axs = plt.subplots(nrows = (len(c_Feature)),ncols = 1, figsize=(10, 6))"
   ]
  },
  {
   "cell_type": "code",
   "execution_count": 25,
   "metadata": {},
   "outputs": [
    {
     "data": {
      "image/png": "[encoded data removed]",
      "text/plain": [
       "<Figure size 720x432 with 1 Axes>"
      ]
     },
     "metadata": {
      "needs_background": "light"
     },
     "output_type": "display_data"
    }
   ],
   "source": [
    "# C_WDAY with C_SEV\n",
    "df_gptest = df[['C_WDAY','C_SEV']]\n",
    "grouped_test1 = df_gptest.groupby(['C_WDAY','C_SEV']).size().unstack(level=-1)\n",
    "ax = grouped_test1.plot(kind='bar', figsize=(10, 6),stacked=True)\n",
    "\n",
    "labels = ['Monday','Tuesday','Wednesday','Thursday','Friday','Saturday','Sunday']\n",
    "x = np.arange(len(labels))\n",
    "ax.set_xticks(x)\n",
    "ax.set_xticklabels(labels)\n",
    "\n",
    "ax.set_xlabel('Day of Week') # add to x-label to the plot\n",
    "ax.set_ylabel('Number of Occurrences') # add y-label to the plot\n",
    "ax.set_title('Number of Occurrences Through the Week') # add title to the plot\n",
    "\n",
    "plt.show()"
   ]
  },
  {
   "cell_type": "code",
   "execution_count": 26,
   "metadata": {},
   "outputs": [
    {
     "data": {
      "image/png": "[encoded data removed]",
      "text/plain": [
       "<Figure size 720x432 with 1 Axes>"
      ]
     },
     "metadata": {
      "needs_background": "light"
     },
     "output_type": "display_data"
    }
   ],
   "source": [
    "# C_CONF with C_SEV\n",
    "df[[\"C_SEV\"]] = df[[\"C_SEV\"]].astype(\"object\")\n",
    "df_gptest = df[['C_CONF','C_SEV']]\n",
    "grouped_test1 = df_gptest.groupby(['C_CONF','C_SEV']).size().unstack(level=-1)\n",
    "ax = grouped_test1.plot(kind='bar', figsize=(10, 6),stacked=True)\n",
    "\n",
    "ax.set_xlabel('Type of Collision') # add to x-label to the plot\n",
    "ax.set_ylabel('Number of Occurrences') # add y-label to the plot\n",
    "ax.set_title('Number of Occurrences of Each Type of Collision') # add title to the plot\n",
    "\n",
    "plt.show()"
   ]
  },
  {
   "cell_type": "code",
   "execution_count": 27,
   "metadata": {},
   "outputs": [
    {
     "data": {
      "image/png": "[encoded data removed]",
      "text/plain": [
       "<Figure size 720x432 with 1 Axes>"
      ]
     },
     "metadata": {
      "needs_background": "light"
     },
     "output_type": "display_data"
    }
   ],
   "source": [
    "# C_RCFG  with C_SEV \n",
    "#df[[\"C_SEV\"]] = df[[\"C_SEV\"]].astype(\"object\")\n",
    "df_gptest = df[['C_RCFG','C_SEV']]\n",
    "grouped_test1 = df_gptest.groupby(['C_RCFG','C_SEV']).size().unstack(level=-1)\n",
    "ax = grouped_test1.plot(kind='bar', figsize=(10, 6),stacked=True)\n",
    "\n",
    "labels = ['Non-intersection','intersection-2public','intersection-parking','railroad-crossing',\n",
    "          'Bridge-overpass-viaduct','Tunnel-underpass',\n",
    "          'Passing-climbing-lane','Ramp','Traffic-circle','Express-lane',\n",
    "          'Collector-lane','Transfer-lane']\n",
    "x = np.arange(len(labels))\n",
    "ax.set_xticks(x)\n",
    "ax.set_xticklabels(labels)\n",
    "\n",
    "ax.set_xlabel('Type of Roadway Configuration') # add to x-label to the plot\n",
    "ax.set_ylabel('Number of Occurrences') # add y-label to the plot\n",
    "ax.set_title('Number of Occurrences of Each Type of Roadway configuration') # add title to the plot\n",
    "\n",
    "plt.show()"
   ]
  },
  {
   "cell_type": "code",
   "execution_count": 28,
   "metadata": {},
   "outputs": [
    {
     "data": {
      "image/png": "[encoded data removed]",
      "text/plain": [
       "<Figure size 720x432 with 1 Axes>"
      ]
     },
     "metadata": {
      "needs_background": "light"
     },
     "output_type": "display_data"
    }
   ],
   "source": [
    "# C_WTHR with C_SEV\n",
    "df_gptest = df[['C_WTHR','C_SEV']]\n",
    "grouped_test1 = df_gptest.groupby(['C_WTHR','C_SEV']).size().unstack(level=-1)\n",
    "ax = grouped_test1.plot(kind='bar', figsize=(10, 6),stacked=True)\n",
    "\n",
    "labels = ['Clear-sunny','Overcast-cloudy-no-precipitation','Raining',\n",
    "          'Snowing-not-drifting-snow',\n",
    "          'Freezing-rain-sleet-hail',\n",
    "          'Visibility-limitation','Strong wind']\n",
    "x = np.arange(len(labels))\n",
    "ax.set_xticks(x)\n",
    "ax.set_xticklabels(labels)\n",
    "\n",
    "ax.set_xlabel('Weather condition') # add to x-label to the plot\n",
    "ax.set_ylabel('Number of Occurrences') # add y-label to the plot\n",
    "ax.set_title('Number of Occurrences of Different Weather condition') # add title to the plot\n",
    "\n",
    "plt.show()"
   ]
  },
  {
   "cell_type": "code",
   "execution_count": 29,
   "metadata": {},
   "outputs": [
    {
     "data": {
      "image/png": "[encoded data removed]",
      "text/plain": [
       "<Figure size 720x432 with 1 Axes>"
      ]
     },
     "metadata": {
      "needs_background": "light"
     },
     "output_type": "display_data"
    }
   ],
   "source": [
    "# C_RSUR with C_SEV\n",
    "df_gptest = df[['C_RSUR','C_SEV']]\n",
    "grouped_test1 = df_gptest.groupby(['C_RSUR','C_SEV']).size().unstack(level=-1)\n",
    "ax = grouped_test1.plot(kind='bar', figsize=(10, 6),stacked=True)\n",
    "\n",
    "labels = ['Dry-normal','Wet','Snow','Slush-wet-snow','Icy','Sand-gravel-dirt','Muddy',\n",
    "          'Oil','Flooded']\n",
    "x = np.arange(len(labels))\n",
    "ax.set_xticks(x)\n",
    "ax.set_xticklabels(labels)\n",
    "\n",
    "ax.set_xlabel('Road surface') # add to x-label to the plot\n",
    "ax.set_ylabel('Number of Occurrences') # add y-label to the plot\n",
    "ax.set_title('Number of Occurrences of Different Road surface') # add title to the plot\n",
    "\n",
    "plt.show()\n"
   ]
  },
  {
   "cell_type": "code",
   "execution_count": 30,
   "metadata": {},
   "outputs": [
    {
     "data": {
      "image/png": "[encoded data removed]",
      "text/plain": [
       "<Figure size 720x432 with 1 Axes>"
      ]
     },
     "metadata": {
      "needs_background": "light"
     },
     "output_type": "display_data"
    }
   ],
   "source": [
    "# C_RALN with C_SEV\n",
    "df_gptest = df[['C_RALN','C_SEV']]\n",
    "grouped_test1 = df_gptest.groupby(['C_RALN','C_SEV']).size().unstack(level=-1)\n",
    "ax = grouped_test1.plot(kind='bar', figsize=(10, 6),stacked=True)\n",
    "\n",
    "labels = ['Straight-level','Straight-gradient','Curved-level','Curved-gradient','Top-hill-gradient',\n",
    "          'Bottom-hill-gradient']\n",
    "x = np.arange(len(labels))\n",
    "ax.set_xticks(x)\n",
    "ax.set_xticklabels(labels)\n",
    "\n",
    "ax.set_xlabel('Road alignment') # add to x-label to the plot\n",
    "ax.set_ylabel('Number of Occurrences') # add y-label to the plot\n",
    "ax.set_title('Number of Occurrences of Different Road alignment') # add title to the plot\n",
    "\n",
    "plt.show()"
   ]
  },
  {
   "cell_type": "code",
   "execution_count": 31,
   "metadata": {},
   "outputs": [
    {
     "data": {
      "image/png": "[encoded data removed]",
      "text/plain": [
       "<Figure size 720x432 with 1 Axes>"
      ]
     },
     "metadata": {
      "needs_background": "light"
     },
     "output_type": "display_data"
    }
   ],
   "source": [
    "# C_TRAF with C_SEV\n",
    "df_gptest = df[['C_TRAF','C_SEV']]\n",
    "grouped_test1 = df_gptest.groupby(['C_TRAF','C_SEV']).size().unstack(level=-1)\n",
    "ax = grouped_test1.plot(kind='bar', figsize=(10, 6),stacked=True)\n",
    "\n",
    "labels = ['fully-operational','flashing-mode','Stop-sign','Yield-sign','Warning-sign',\n",
    "          'Pedestrian-crosswalk','Police-officer','School-guard','school-crossing',\n",
    "          'Reduced-speed-zone','No-passing-sign','Markings-on-the-road','School-bus-stopped-flashing',\n",
    "          'School-bus-stopped-not-flashing',\n",
    "          'Railway-crossing-signals-or-gate',\n",
    "          'Railway-crossing-signs',\n",
    "          'Control-device-not-specified',\n",
    "          'No-control-present']\n",
    "x = np.arange(len(labels))\n",
    "ax.set_xticks(x)\n",
    "ax.set_xticklabels(labels)\n",
    "\n",
    "ax.set_xlabel('Traffic control') # add to x-label to the plot\n",
    "ax.set_ylabel('Number of Occurrences') # add y-label to the plot\n",
    "ax.set_title('Number of Occurrences of Different Traffic control') # add title to the plot\n",
    "\n",
    "plt.show()"
   ]
  },
  {
   "cell_type": "markdown",
   "metadata": {},
   "source": [
    "<h2>Conclusion: Important Variables</h2>\n",
    "<p>We now have a better idea of what our data looks like and which variables are important to take into account when predicting the severity of an accident. We have narrowed it down to the following variables:</p>\n",
    "\n",
    "Continuous numerical variables:\n",
    "<ul>\n",
    "    <li>C_VEHS</li>  \n",
    "</ul>\n",
    "    \n",
    "Categorical variables:\n",
    "<ul>\n",
    "    <li>C_WDAY</li>\n",
    "    <li>C_CONF</li>\n",
    "    <li>C_RCFG</li>\n",
    "    <li>C_WTHR</li>\n",
    "    <li>C_RSUR</li>\n",
    "    <li>C_RALN</li>\n",
    "    <li>C_TRAF</li>\n",
    "</ul>\n"
   ]
  },
  {
   "cell_type": "markdown",
   "metadata": {},
   "source": [
    "## Convert Categorical features to numerical values"
   ]
  },
  {
   "cell_type": "markdown",
   "metadata": {},
   "source": [
    "## One Hot Encoding  "
   ]
  },
  {
   "cell_type": "markdown",
   "metadata": {},
   "source": [
    "#### Feature befor One Hot Encoding"
   ]
  },
  {
   "cell_type": "code",
   "execution_count": 32,
   "metadata": {},
   "outputs": [
    {
     "data": {
      "text/html": [
       "<div>\n",
       "<style scoped>\n",
       "    .dataframe tbody tr th:only-of-type {\n",
       "        vertical-align: middle;\n",
       "    }\n",
       "\n",
       "    .dataframe tbody tr th {\n",
       "        vertical-align: top;\n",
       "    }\n",
       "\n",
       "    .dataframe thead th {\n",
       "        text-align: right;\n",
       "    }\n",
       "</style>\n",
       "<table border=\"1\" class=\"dataframe\">\n",
       "  <thead>\n",
       "    <tr style=\"text-align: right;\">\n",
       "      <th></th>\n",
       "      <th>C_WDAY</th>\n",
       "      <th>C_VEHS</th>\n",
       "      <th>C_CONF</th>\n",
       "      <th>C_RCFG</th>\n",
       "      <th>C_WTHR</th>\n",
       "      <th>C_RSUR</th>\n",
       "      <th>C_RALN</th>\n",
       "      <th>C_TRAF</th>\n",
       "    </tr>\n",
       "  </thead>\n",
       "  <tbody>\n",
       "    <tr>\n",
       "      <th>3600510</th>\n",
       "      <td>1</td>\n",
       "      <td>1</td>\n",
       "      <td>1-Vehicle</td>\n",
       "      <td>02</td>\n",
       "      <td>1</td>\n",
       "      <td>1</td>\n",
       "      <td>1</td>\n",
       "      <td>18</td>\n",
       "    </tr>\n",
       "    <tr>\n",
       "      <th>100547</th>\n",
       "      <td>4</td>\n",
       "      <td>3</td>\n",
       "      <td>2-Vehicles-Different</td>\n",
       "      <td>01</td>\n",
       "      <td>1</td>\n",
       "      <td>1</td>\n",
       "      <td>1</td>\n",
       "      <td>18</td>\n",
       "    </tr>\n",
       "    <tr>\n",
       "      <th>2367314</th>\n",
       "      <td>4</td>\n",
       "      <td>3</td>\n",
       "      <td>2-Vehicles-Different</td>\n",
       "      <td>01</td>\n",
       "      <td>1</td>\n",
       "      <td>1</td>\n",
       "      <td>4</td>\n",
       "      <td>18</td>\n",
       "    </tr>\n",
       "    <tr>\n",
       "      <th>2333244</th>\n",
       "      <td>2</td>\n",
       "      <td>1</td>\n",
       "      <td>1-Vehicle</td>\n",
       "      <td>01</td>\n",
       "      <td>1</td>\n",
       "      <td>1</td>\n",
       "      <td>1</td>\n",
       "      <td>18</td>\n",
       "    </tr>\n",
       "    <tr>\n",
       "      <th>3191276</th>\n",
       "      <td>7</td>\n",
       "      <td>2</td>\n",
       "      <td>2-Vehicles-Different</td>\n",
       "      <td>01</td>\n",
       "      <td>1</td>\n",
       "      <td>1</td>\n",
       "      <td>4</td>\n",
       "      <td>18</td>\n",
       "    </tr>\n",
       "  </tbody>\n",
       "</table>\n",
       "</div>"
      ],
      "text/plain": [
       "         C_WDAY  C_VEHS                C_CONF C_RCFG C_WTHR C_RSUR C_RALN  \\\n",
       "3600510       1       1             1-Vehicle     02      1      1      1   \n",
       "100547        4       3  2-Vehicles-Different     01      1      1      1   \n",
       "2367314       4       3  2-Vehicles-Different     01      1      1      4   \n",
       "2333244       2       1             1-Vehicle     01      1      1      1   \n",
       "3191276       7       2  2-Vehicles-Different     01      1      1      4   \n",
       "\n",
       "        C_TRAF  \n",
       "3600510     18  \n",
       "100547      18  \n",
       "2367314     18  \n",
       "2333244     18  \n",
       "3191276     18  "
      ]
     },
     "execution_count": 32,
     "metadata": {},
     "output_type": "execute_result"
    }
   ],
   "source": [
    "df[['C_WDAY', 'C_VEHS', 'C_CONF', 'C_RCFG', 'C_WTHR', 'C_RSUR',\n",
    "       'C_RALN', 'C_TRAF']].head()"
   ]
  },
  {
   "cell_type": "code",
   "execution_count": 103,
   "metadata": {},
   "outputs": [
    {
     "data": {
      "text/plain": [
       "Index(['C_WDAY', 'C_SEV', 'C_VEHS', 'C_CONF', 'C_RCFG', 'C_WTHR', 'C_RSUR',\n",
       "       'C_RALN', 'C_TRAF'],\n",
       "      dtype='object')"
      ]
     },
     "execution_count": 103,
     "metadata": {},
     "output_type": "execute_result"
    }
   ],
   "source": [
    "df.columns"
   ]
  },
  {
   "cell_type": "markdown",
   "metadata": {},
   "source": [
    "#### Use one hot encoding technique to conver categorical varables to binary variables and append them to the feature Data Frame"
   ]
  },
  {
   "cell_type": "code",
   "execution_count": 86,
   "metadata": {},
   "outputs": [
    {
     "data": {
      "text/plain": [
       "(172646, 61)"
      ]
     },
     "execution_count": 86,
     "metadata": {},
     "output_type": "execute_result"
    }
   ],
   "source": [
    "# Feature = df[['Principal','terms','age','Gender','weekend']]\n",
    "# Feature = pd.concat([Feature,pd.get_dummies(df['education'])], axis=1)\n",
    "# Feature.drop(['Master or Above'], axis = 1,inplace=True)\n",
    "\n",
    "Feature = df[['C_VEHS']]\n",
    "Feature = pd.concat([Feature,pd.get_dummies(df['C_CONF'])], axis=1)\n",
    "\n",
    "Feature = pd.concat([Feature,pd.get_dummies(df['C_WDAY'])], axis=1)\n",
    "\n",
    "rwday_labels = ['Monday','Tuesday','Wednesday','Thursday','Friday','Saturday','Sunday']\n",
    "for i in df['C_WDAY'].unique():\n",
    "    Feature.rename(columns = {i:rwday_labels[int(i)-1]}, inplace = True)\n",
    "\n",
    "\n",
    "Feature = pd.concat([Feature,pd.get_dummies(df['C_RCFG'])], axis=1)\n",
    "\n",
    "rcfg_labels = ['Non-intersection','intersection-2public','intersection-parking','railroad-crossing',\n",
    "          'Bridge-overpass-viaduct','Tunnel-underpass',\n",
    "          'Passing-climbing-lane','Ramp','Traffic-circle','Express-lane',\n",
    "          'Collector-lane','Transfer-lane']\n",
    "for i in df['C_RCFG'].unique():\n",
    "    Feature.rename(columns = {i:rcfg_labels[int(i)-1]}, inplace = True)\n",
    "\n",
    "# 'C_WTHR'\n",
    "Feature = pd.concat([Feature,pd.get_dummies(df['C_WTHR'])], axis=1)\n",
    "\n",
    "wthr_labels = ['Clear-sunny','Overcast-cloudy-no-precipitation','Raining',\n",
    "          'Snowing-not-drifting-snow',\n",
    "          'Freezing-rain-sleet-hail',\n",
    "          'Visibility-limitation','Strong wind']\n",
    "for i in df['C_WTHR'].unique():\n",
    "    Feature.rename(columns = {i:wthr_labels[int(i)-1]}, inplace = True)\n",
    "\n",
    "# 'C_RSUR'\n",
    "Feature = pd.concat([Feature,pd.get_dummies(df['C_RSUR'])], axis=1)\n",
    "\n",
    "rsur_labels = ['Dry-normal','Wet','Snow','Slush-wet-snow','Icy','Sand-gravel-dirt','Muddy',\n",
    "          'Oil','Flooded']\n",
    "for i in df['C_RSUR'].unique():\n",
    "    Feature.rename(columns = {i:rsur_labels[int(i)-1]}, inplace = True)\n",
    "# 'C_RALN'\n",
    "Feature = pd.concat([Feature,pd.get_dummies(df['C_RALN'])], axis=1)\n",
    "\n",
    "raln_labels = ['Straight-level','Straight-gradient','Curved-level','Curved-gradient','Top-hill-gradient',\n",
    "          'Bottom-hill-gradient']\n",
    "for i in df['C_RALN'].unique():\n",
    "    Feature.rename(columns = {i:raln_labels[int(i)-1]}, inplace = True)\n",
    "\n",
    "# 'C_TRAF'\n",
    "Feature = pd.concat([Feature,pd.get_dummies(df['C_TRAF'])], axis=1)\n",
    "traf_labels = ['fully-operational','flashing-mode','Stop-sign','Yield-sign','Warning-sign',\n",
    "          'Pedestrian-crosswalk','Police-officer','School-guard','school-crossing',\n",
    "          'Reduced-speed-zone','No-passing-sign','Markings-on-the-road','School-bus-stopped-flashing',\n",
    "          'School-bus-stopped-not-flashing',\n",
    "          'Railway-crossing-signals-or-gate',\n",
    "          'Railway-crossing-signs',\n",
    "          'Control-device-not-specified',\n",
    "          'No-control-present']\n",
    "for i in df['C_TRAF'].unique():\n",
    "    Feature.rename(columns = {i:traf_labels[int(i)-1]}, inplace = True)\n",
    "\n",
    "Feature.shape"
   ]
  },
  {
   "cell_type": "code",
   "execution_count": 105,
   "metadata": {},
   "outputs": [
    {
     "data": {
      "text/plain": [
       "['C_VEHS',\n",
       " '1-Vehicle',\n",
       " '2-Vehicles-Same',\n",
       " '2-Vehicles-Different',\n",
       " '2-Vehicles-Parked',\n",
       " 'Monday',\n",
       " 'Tuesday',\n",
       " 'Wednesday',\n",
       " 'Thursday',\n",
       " 'Friday',\n",
       " 'Saturday',\n",
       " 'Sunday',\n",
       " 'Non-intersection',\n",
       " 'intersection-2public',\n",
       " 'intersection-parking',\n",
       " 'railroad-crossing',\n",
       " 'Bridge-overpass-viaduct',\n",
       " 'Tunnel-underpass',\n",
       " 'Passing-climbing-lane',\n",
       " 'Ramp',\n",
       " 'Traffic-circle',\n",
       " 'Express-lane',\n",
       " 'Clear-sunny',\n",
       " 'Overcast-cloudy-no-precipitation',\n",
       " 'Raining',\n",
       " 'Snowing-not-drifting-snow',\n",
       " 'Freezing-rain-sleet-hail',\n",
       " 'Visibility-limitation',\n",
       " 'Strong wind',\n",
       " 'Dry-normal',\n",
       " 'Wet',\n",
       " 'Snow',\n",
       " 'Slush-wet-snow',\n",
       " 'Icy',\n",
       " 'Sand-gravel-dirt',\n",
       " 'Muddy',\n",
       " 'Oil',\n",
       " 'Flooded',\n",
       " 'Straight-level',\n",
       " 'Straight-gradient',\n",
       " 'Curved-level',\n",
       " 'Curved-gradient',\n",
       " 'Top-hill-gradient',\n",
       " 'Bottom-hill-gradient',\n",
       " 'fully-operational',\n",
       " 'flashing-mode',\n",
       " 'Stop-sign',\n",
       " 'Yield-sign',\n",
       " 'Warning-sign',\n",
       " 'Pedestrian-crosswalk',\n",
       " 'Police-officer',\n",
       " 'School-guard',\n",
       " 'school-crossing',\n",
       " 'Reduced-speed-zone',\n",
       " 'No-passing-sign',\n",
       " 'Markings-on-the-road',\n",
       " 'School-bus-stopped-flashing',\n",
       " 'Railway-crossing-signals-or-gate',\n",
       " 'Railway-crossing-signs',\n",
       " 'Control-device-not-specified',\n",
       " 'No-control-present']"
      ]
     },
     "execution_count": 105,
     "metadata": {},
     "output_type": "execute_result"
    }
   ],
   "source": [
    "Feature.columns.values.tolist()"
   ]
  },
  {
   "cell_type": "markdown",
   "metadata": {},
   "source": [
    "### Feature selection"
   ]
  },
  {
   "cell_type": "code",
   "execution_count": 87,
   "metadata": {},
   "outputs": [
    {
     "data": {
      "text/html": [
       "<div>\n",
       "<style scoped>\n",
       "    .dataframe tbody tr th:only-of-type {\n",
       "        vertical-align: middle;\n",
       "    }\n",
       "\n",
       "    .dataframe tbody tr th {\n",
       "        vertical-align: top;\n",
       "    }\n",
       "\n",
       "    .dataframe thead th {\n",
       "        text-align: right;\n",
       "    }\n",
       "</style>\n",
       "<table border=\"1\" class=\"dataframe\">\n",
       "  <thead>\n",
       "    <tr style=\"text-align: right;\">\n",
       "      <th></th>\n",
       "      <th>C_VEHS</th>\n",
       "      <th>1-Vehicle</th>\n",
       "      <th>2-Vehicles-Same</th>\n",
       "      <th>2-Vehicles-Different</th>\n",
       "      <th>2-Vehicles-Parked</th>\n",
       "      <th>Monday</th>\n",
       "      <th>Tuesday</th>\n",
       "      <th>Wednesday</th>\n",
       "      <th>Thursday</th>\n",
       "      <th>Friday</th>\n",
       "      <th>...</th>\n",
       "      <th>School-guard</th>\n",
       "      <th>school-crossing</th>\n",
       "      <th>Reduced-speed-zone</th>\n",
       "      <th>No-passing-sign</th>\n",
       "      <th>Markings-on-the-road</th>\n",
       "      <th>School-bus-stopped-flashing</th>\n",
       "      <th>Railway-crossing-signals-or-gate</th>\n",
       "      <th>Railway-crossing-signs</th>\n",
       "      <th>Control-device-not-specified</th>\n",
       "      <th>No-control-present</th>\n",
       "    </tr>\n",
       "  </thead>\n",
       "  <tbody>\n",
       "    <tr>\n",
       "      <th>3600510</th>\n",
       "      <td>1</td>\n",
       "      <td>1</td>\n",
       "      <td>0</td>\n",
       "      <td>0</td>\n",
       "      <td>0</td>\n",
       "      <td>1</td>\n",
       "      <td>0</td>\n",
       "      <td>0</td>\n",
       "      <td>0</td>\n",
       "      <td>0</td>\n",
       "      <td>...</td>\n",
       "      <td>0</td>\n",
       "      <td>0</td>\n",
       "      <td>0</td>\n",
       "      <td>0</td>\n",
       "      <td>0</td>\n",
       "      <td>0</td>\n",
       "      <td>0</td>\n",
       "      <td>0</td>\n",
       "      <td>0</td>\n",
       "      <td>1</td>\n",
       "    </tr>\n",
       "    <tr>\n",
       "      <th>100547</th>\n",
       "      <td>3</td>\n",
       "      <td>0</td>\n",
       "      <td>0</td>\n",
       "      <td>1</td>\n",
       "      <td>0</td>\n",
       "      <td>0</td>\n",
       "      <td>0</td>\n",
       "      <td>0</td>\n",
       "      <td>1</td>\n",
       "      <td>0</td>\n",
       "      <td>...</td>\n",
       "      <td>0</td>\n",
       "      <td>0</td>\n",
       "      <td>0</td>\n",
       "      <td>0</td>\n",
       "      <td>0</td>\n",
       "      <td>0</td>\n",
       "      <td>0</td>\n",
       "      <td>0</td>\n",
       "      <td>0</td>\n",
       "      <td>1</td>\n",
       "    </tr>\n",
       "    <tr>\n",
       "      <th>2367314</th>\n",
       "      <td>3</td>\n",
       "      <td>0</td>\n",
       "      <td>0</td>\n",
       "      <td>1</td>\n",
       "      <td>0</td>\n",
       "      <td>0</td>\n",
       "      <td>0</td>\n",
       "      <td>0</td>\n",
       "      <td>1</td>\n",
       "      <td>0</td>\n",
       "      <td>...</td>\n",
       "      <td>0</td>\n",
       "      <td>0</td>\n",
       "      <td>0</td>\n",
       "      <td>0</td>\n",
       "      <td>0</td>\n",
       "      <td>0</td>\n",
       "      <td>0</td>\n",
       "      <td>0</td>\n",
       "      <td>0</td>\n",
       "      <td>1</td>\n",
       "    </tr>\n",
       "    <tr>\n",
       "      <th>2333244</th>\n",
       "      <td>1</td>\n",
       "      <td>1</td>\n",
       "      <td>0</td>\n",
       "      <td>0</td>\n",
       "      <td>0</td>\n",
       "      <td>0</td>\n",
       "      <td>1</td>\n",
       "      <td>0</td>\n",
       "      <td>0</td>\n",
       "      <td>0</td>\n",
       "      <td>...</td>\n",
       "      <td>0</td>\n",
       "      <td>0</td>\n",
       "      <td>0</td>\n",
       "      <td>0</td>\n",
       "      <td>0</td>\n",
       "      <td>0</td>\n",
       "      <td>0</td>\n",
       "      <td>0</td>\n",
       "      <td>0</td>\n",
       "      <td>1</td>\n",
       "    </tr>\n",
       "    <tr>\n",
       "      <th>3191276</th>\n",
       "      <td>2</td>\n",
       "      <td>0</td>\n",
       "      <td>0</td>\n",
       "      <td>1</td>\n",
       "      <td>0</td>\n",
       "      <td>0</td>\n",
       "      <td>0</td>\n",
       "      <td>0</td>\n",
       "      <td>0</td>\n",
       "      <td>0</td>\n",
       "      <td>...</td>\n",
       "      <td>0</td>\n",
       "      <td>0</td>\n",
       "      <td>0</td>\n",
       "      <td>0</td>\n",
       "      <td>0</td>\n",
       "      <td>0</td>\n",
       "      <td>0</td>\n",
       "      <td>0</td>\n",
       "      <td>0</td>\n",
       "      <td>1</td>\n",
       "    </tr>\n",
       "  </tbody>\n",
       "</table>\n",
       "<p>5 rows × 61 columns</p>\n",
       "</div>"
      ],
      "text/plain": [
       "         C_VEHS  1-Vehicle  2-Vehicles-Same  2-Vehicles-Different  \\\n",
       "3600510       1          1                0                     0   \n",
       "100547        3          0                0                     1   \n",
       "2367314       3          0                0                     1   \n",
       "2333244       1          1                0                     0   \n",
       "3191276       2          0                0                     1   \n",
       "\n",
       "         2-Vehicles-Parked  Monday  Tuesday  Wednesday  Thursday  Friday  ...  \\\n",
       "3600510                  0       1        0          0         0       0  ...   \n",
       "100547                   0       0        0          0         1       0  ...   \n",
       "2367314                  0       0        0          0         1       0  ...   \n",
       "2333244                  0       0        1          0         0       0  ...   \n",
       "3191276                  0       0        0          0         0       0  ...   \n",
       "\n",
       "         School-guard  school-crossing  Reduced-speed-zone  No-passing-sign  \\\n",
       "3600510             0                0                   0                0   \n",
       "100547              0                0                   0                0   \n",
       "2367314             0                0                   0                0   \n",
       "2333244             0                0                   0                0   \n",
       "3191276             0                0                   0                0   \n",
       "\n",
       "         Markings-on-the-road  School-bus-stopped-flashing  \\\n",
       "3600510                     0                            0   \n",
       "100547                      0                            0   \n",
       "2367314                     0                            0   \n",
       "2333244                     0                            0   \n",
       "3191276                     0                            0   \n",
       "\n",
       "         Railway-crossing-signals-or-gate  Railway-crossing-signs  \\\n",
       "3600510                                 0                       0   \n",
       "100547                                  0                       0   \n",
       "2367314                                 0                       0   \n",
       "2333244                                 0                       0   \n",
       "3191276                                 0                       0   \n",
       "\n",
       "         Control-device-not-specified  No-control-present  \n",
       "3600510                             0                   1  \n",
       "100547                              0                   1  \n",
       "2367314                             0                   1  \n",
       "2333244                             0                   1  \n",
       "3191276                             0                   1  \n",
       "\n",
       "[5 rows x 61 columns]"
      ]
     },
     "execution_count": 87,
     "metadata": {},
     "output_type": "execute_result"
    }
   ],
   "source": [
    "X = Feature\n",
    "y = df['C_SEV'].values.astype(str)\n",
    "X[0:5]"
   ]
  },
  {
   "cell_type": "code",
   "execution_count": 88,
   "metadata": {},
   "outputs": [],
   "source": [
    "# select sample from df if the dataset is too large\n",
    "slt = 0.3\n",
    "idx = np.random.choice(np.arange(len(X)), int(len(X)*slt), replace=False)\n",
    "X_sample = X.iloc[idx,:]\n",
    "y_sample = y[idx]"
   ]
  },
  {
   "cell_type": "markdown",
   "metadata": {},
   "source": [
    "# 4. Clasification "
   ]
  },
  {
   "cell_type": "markdown",
   "metadata": {},
   "source": [
    "<p>As we now move into building machine learning models to automate our analysis, feeding the model with variables that meaningfully affect our target variable will improve our model's prediction performance.</p>"
   ]
  },
  {
   "cell_type": "markdown",
   "metadata": {},
   "source": [
    "Now we will split the processed dataset into training and test, and we use the training dataset to build an accurate model. Then use the test set to report the accuracy of the model You should use the following algorithm:\n",
    "- K Nearest Neighbor(KNN) (we need to use only train set to find the best k value) \n",
    "- Decision Tree\n",
    "- Support Vector Machine\n",
    "- Logistic Regression"
   ]
  },
  {
   "cell_type": "code",
   "execution_count": 89,
   "metadata": {},
   "outputs": [],
   "source": [
    "from sklearn.model_selection import train_test_split\n",
    "X_train, X_test, y_train, y_test = train_test_split( X_sample, y_sample, test_size=0.3, random_state=4)"
   ]
  },
  {
   "cell_type": "code",
   "execution_count": 90,
   "metadata": {},
   "outputs": [],
   "source": [
    "# Normalize train set \n",
    "X_train = preprocessing.StandardScaler().fit(X_train).transform(X_train)\n",
    "X_test = preprocessing.StandardScaler().fit(X_test).transform(X_test)"
   ]
  },
  {
   "cell_type": "markdown",
   "metadata": {},
   "source": [
    "## KNN"
   ]
  },
  {
   "cell_type": "code",
   "execution_count": 47,
   "metadata": {},
   "outputs": [
    {
     "name": "stdout",
     "output_type": "stream",
     "text": [
      "Train set: (16919, 61) (16919,)\n",
      "Test set: (7251, 61) (7251,)\n"
     ]
    }
   ],
   "source": [
    "X_train1, X_test1, y_train1, y_test1 = train_test_split( X_train, y_train, test_size=0.3, random_state=4)\n",
    "print ('Train set:', X_train1.shape,  y_train1.shape)\n",
    "print ('Test set:', X_test1.shape,  y_test1.shape)"
   ]
  },
  {
   "cell_type": "code",
   "execution_count": 48,
   "metadata": {},
   "outputs": [],
   "source": [
    "from sklearn.neighbors import KNeighborsClassifier\n",
    "from sklearn import metrics"
   ]
  },
  {
   "cell_type": "code",
   "execution_count": 49,
   "metadata": {},
   "outputs": [
    {
     "name": "stdout",
     "output_type": "stream",
     "text": [
      "The best accuracy was with 0.6645429095472536 with k= 3\n"
     ]
    }
   ],
   "source": [
    "# find the best k\n",
    "Ks = 4\n",
    "mean_acc = np.zeros((Ks-1))\n",
    "std_acc = np.zeros((Ks-1))\n",
    "ConfustionMx = [];\n",
    "for n in range(1,Ks):\n",
    "    \n",
    "    #Train Model and Predict  \n",
    "    neigh = KNeighborsClassifier(n_neighbors = n).fit(X_train,y_train)\n",
    "    yhat=neigh.predict(X_test)\n",
    "    mean_acc[n-1] = metrics.accuracy_score(y_test, yhat)\n",
    "    \n",
    "    std_acc[n-1]=np.std(yhat==y_test)/np.sqrt(yhat.shape[0])\n",
    "\n",
    "print( \"The best accuracy was with\", mean_acc.max(), \"with k=\", mean_acc.argmax()+1) "
   ]
  },
  {
   "cell_type": "code",
   "execution_count": 91,
   "metadata": {},
   "outputs": [],
   "source": [
    "# create model with k=3\n",
    "neigh3 = KNeighborsClassifier(n_neighbors = n).fit(X_train,y_train)"
   ]
  },
  {
   "cell_type": "markdown",
   "metadata": {},
   "source": [
    "## Decision Tree"
   ]
  },
  {
   "cell_type": "code",
   "execution_count": 75,
   "metadata": {},
   "outputs": [
    {
     "data": {
      "text/plain": [
       "DecisionTreeClassifier(ccp_alpha=0.0, class_weight=None, criterion='entropy',\n",
       "                       max_depth=4, max_features=None, max_leaf_nodes=None,\n",
       "                       min_impurity_decrease=0.0, min_impurity_split=None,\n",
       "                       min_samples_leaf=1, min_samples_split=2,\n",
       "                       min_weight_fraction_leaf=0.0, presort='deprecated',\n",
       "                       random_state=None, splitter='best')"
      ]
     },
     "execution_count": 75,
     "metadata": {},
     "output_type": "execute_result"
    }
   ],
   "source": [
    "from sklearn.tree import DecisionTreeClassifier\n",
    "sevTree = DecisionTreeClassifier(criterion=\"entropy\", max_depth = 4)\n",
    "sevTree # it shows the default parameters"
   ]
  },
  {
   "cell_type": "code",
   "execution_count": 76,
   "metadata": {},
   "outputs": [
    {
     "data": {
      "text/plain": [
       "DecisionTreeClassifier(ccp_alpha=0.0, class_weight=None, criterion='entropy',\n",
       "                       max_depth=4, max_features=None, max_leaf_nodes=None,\n",
       "                       min_impurity_decrease=0.0, min_impurity_split=None,\n",
       "                       min_samples_leaf=1, min_samples_split=2,\n",
       "                       min_weight_fraction_leaf=0.0, presort='deprecated',\n",
       "                       random_state=None, splitter='best')"
      ]
     },
     "execution_count": 76,
     "metadata": {},
     "output_type": "execute_result"
    }
   ],
   "source": [
    "sevTree.fit(X_train,y_train)"
   ]
  },
  {
   "cell_type": "code",
   "execution_count": 98,
   "metadata": {},
   "outputs": [
    {
     "name": "stdout",
     "output_type": "stream",
     "text": [
      "Feature: 0, Score: 0.05509\n",
      "Feature: 1, Score: 0.00000\n",
      "Feature: 2, Score: 0.42407\n",
      "Feature: 3, Score: 0.05651\n",
      "Feature: 4, Score: 0.00000\n",
      "Feature: 5, Score: 0.00000\n",
      "Feature: 6, Score: 0.00000\n",
      "Feature: 7, Score: 0.00000\n",
      "Feature: 8, Score: 0.00000\n",
      "Feature: 9, Score: 0.00000\n",
      "Feature: 10, Score: 0.00000\n",
      "Feature: 11, Score: 0.00000\n",
      "Feature: 12, Score: 0.27423\n",
      "Feature: 13, Score: 0.00000\n",
      "Feature: 14, Score: 0.01103\n",
      "Feature: 15, Score: 0.00000\n",
      "Feature: 16, Score: 0.00000\n",
      "Feature: 17, Score: 0.00000\n",
      "Feature: 18, Score: 0.00000\n",
      "Feature: 19, Score: 0.00000\n",
      "Feature: 20, Score: 0.00000\n",
      "Feature: 21, Score: 0.00000\n",
      "Feature: 22, Score: 0.00000\n",
      "Feature: 23, Score: 0.00000\n",
      "Feature: 24, Score: 0.00000\n",
      "Feature: 25, Score: 0.00000\n",
      "Feature: 26, Score: 0.00000\n",
      "Feature: 27, Score: 0.00000\n",
      "Feature: 28, Score: 0.00000\n",
      "Feature: 29, Score: 0.02121\n",
      "Feature: 30, Score: 0.00000\n",
      "Feature: 31, Score: 0.00000\n",
      "Feature: 32, Score: 0.00000\n",
      "Feature: 33, Score: 0.00000\n",
      "Feature: 34, Score: 0.00000\n",
      "Feature: 35, Score: 0.00000\n",
      "Feature: 36, Score: 0.00000\n",
      "Feature: 37, Score: 0.00000\n",
      "Feature: 38, Score: 0.00743\n",
      "Feature: 39, Score: 0.00000\n",
      "Feature: 40, Score: 0.00000\n",
      "Feature: 41, Score: 0.00000\n",
      "Feature: 42, Score: 0.00000\n",
      "Feature: 43, Score: 0.00000\n",
      "Feature: 44, Score: 0.05771\n",
      "Feature: 45, Score: 0.00000\n",
      "Feature: 46, Score: 0.00000\n",
      "Feature: 47, Score: 0.00000\n",
      "Feature: 48, Score: 0.00000\n",
      "Feature: 49, Score: 0.00000\n",
      "Feature: 50, Score: 0.00000\n",
      "Feature: 51, Score: 0.00000\n",
      "Feature: 52, Score: 0.00000\n",
      "Feature: 53, Score: 0.00000\n",
      "Feature: 54, Score: 0.00000\n",
      "Feature: 55, Score: 0.00452\n",
      "Feature: 56, Score: 0.00000\n",
      "Feature: 57, Score: 0.00000\n",
      "Feature: 58, Score: 0.00000\n",
      "Feature: 59, Score: 0.00000\n",
      "Feature: 60, Score: 0.08820\n"
     ]
    },
    {
     "data": {
      "image/png": "[encoded data removed]",
      "text/plain": [
       "<Figure size 432x288 with 1 Axes>"
      ]
     },
     "metadata": {
      "needs_background": "light"
     },
     "output_type": "display_data"
    }
   ],
   "source": [
    "from matplotlib import pyplot\n",
    "# get importance\n",
    "importance = sevTree.feature_importances_\n",
    "# summarize feature importance\n",
    "for i,v in enumerate(importance):\n",
    "    print('Feature: %0d, Score: %.5f' % (i,v))\n",
    "# plot feature importance\n",
    "pyplot.bar([x for x in range(len(importance))], importance)\n",
    "pyplot.show()"
   ]
  },
  {
   "cell_type": "markdown",
   "metadata": {},
   "source": [
    "## Support Vector Machine¶"
   ]
  },
  {
   "cell_type": "code",
   "execution_count": 77,
   "metadata": {},
   "outputs": [
    {
     "data": {
      "text/plain": [
       "SVC(C=1.0, break_ties=False, cache_size=200, class_weight=None, coef0=0.0,\n",
       "    decision_function_shape='ovr', degree=3, gamma='scale', kernel='rbf',\n",
       "    max_iter=-1, probability=False, random_state=None, shrinking=True,\n",
       "    tol=0.001, verbose=False)"
      ]
     },
     "execution_count": 77,
     "metadata": {},
     "output_type": "execute_result"
    }
   ],
   "source": [
    "from sklearn import svm\n",
    "clf = svm.SVC(kernel='rbf')\n",
    "clf.fit(X_train,y_train) "
   ]
  },
  {
   "cell_type": "markdown",
   "metadata": {},
   "source": [
    "## Logistic Regression"
   ]
  },
  {
   "cell_type": "code",
   "execution_count": 78,
   "metadata": {},
   "outputs": [
    {
     "data": {
      "text/plain": [
       "LogisticRegression(C=0.01, class_weight=None, dual=False, fit_intercept=True,\n",
       "                   intercept_scaling=1, l1_ratio=None, max_iter=100,\n",
       "                   multi_class='auto', n_jobs=None, penalty='l2',\n",
       "                   random_state=None, solver='liblinear', tol=0.0001, verbose=0,\n",
       "                   warm_start=False)"
      ]
     },
     "execution_count": 78,
     "metadata": {},
     "output_type": "execute_result"
    }
   ],
   "source": [
    "from sklearn.linear_model import LogisticRegression\n",
    "from sklearn.metrics import confusion_matrix\n",
    "LR = LogisticRegression(C=0.01, solver='liblinear').fit(X_train,y_train)\n",
    "LR"
   ]
  },
  {
   "cell_type": "code",
   "execution_count": 97,
   "metadata": {},
   "outputs": [
    {
     "name": "stdout",
     "output_type": "stream",
     "text": [
      "Feature: 0, Score: -0.52944\n",
      "Feature: 1, Score: -0.27518\n",
      "Feature: 2, Score: 0.58362\n",
      "Feature: 3, Score: -0.27471\n",
      "Feature: 4, Score: 0.05527\n",
      "Feature: 5, Score: -0.00221\n",
      "Feature: 6, Score: 0.02503\n",
      "Feature: 7, Score: 0.03094\n",
      "Feature: 8, Score: 0.02766\n",
      "Feature: 9, Score: 0.01117\n",
      "Feature: 10, Score: -0.03799\n",
      "Feature: 11, Score: -0.05183\n",
      "Feature: 12, Score: -0.19095\n",
      "Feature: 13, Score: 0.11814\n",
      "Feature: 14, Score: 0.18631\n",
      "Feature: 15, Score: 0.02900\n",
      "Feature: 16, Score: -0.03472\n",
      "Feature: 17, Score: -0.03366\n",
      "Feature: 18, Score: -0.04481\n",
      "Feature: 19, Score: 0.03251\n",
      "Feature: 20, Score: 0.04635\n",
      "Feature: 21, Score: -0.00041\n",
      "Feature: 22, Score: 0.00376\n",
      "Feature: 23, Score: -0.00012\n",
      "Feature: 24, Score: 0.03149\n",
      "Feature: 25, Score: 0.01788\n",
      "Feature: 26, Score: -0.03102\n",
      "Feature: 27, Score: -0.07477\n",
      "Feature: 28, Score: -0.02453\n",
      "Feature: 29, Score: -0.08070\n",
      "Feature: 30, Score: 0.01214\n",
      "Feature: 31, Score: 0.08278\n",
      "Feature: 32, Score: 0.02110\n",
      "Feature: 33, Score: 0.07292\n",
      "Feature: 34, Score: -0.05253\n",
      "Feature: 35, Score: 0.00529\n",
      "Feature: 36, Score: 0.01475\n",
      "Feature: 37, Score: 0.01992\n",
      "Feature: 38, Score: 0.10520\n",
      "Feature: 39, Score: -0.02830\n",
      "Feature: 40, Score: -0.05919\n",
      "Feature: 41, Score: -0.07875\n",
      "Feature: 42, Score: -0.00972\n",
      "Feature: 43, Score: -0.01541\n",
      "Feature: 44, Score: 0.26830\n",
      "Feature: 45, Score: -0.01994\n",
      "Feature: 46, Score: -0.01031\n",
      "Feature: 47, Score: 0.04314\n",
      "Feature: 48, Score: -0.01003\n",
      "Feature: 49, Score: 0.00832\n",
      "Feature: 50, Score: 0.00615\n",
      "Feature: 51, Score: -0.00220\n",
      "Feature: 52, Score: 0.02255\n",
      "Feature: 53, Score: -0.04949\n",
      "Feature: 54, Score: -0.02665\n",
      "Feature: 55, Score: -0.04279\n",
      "Feature: 56, Score: 0.00216\n",
      "Feature: 57, Score: -0.05714\n",
      "Feature: 58, Score: -0.05266\n",
      "Feature: 59, Score: -0.03879\n",
      "Feature: 60, Score: -0.20988\n"
     ]
    },
    {
     "data": {
      "image/png": "[encoded data removed]",
      "text/plain": [
       "<Figure size 432x288 with 1 Axes>"
      ]
     },
     "metadata": {
      "needs_background": "light"
     },
     "output_type": "display_data"
    }
   ],
   "source": [
    "from matplotlib import pyplot\n",
    "# get importance\n",
    "importance = LR.coef_[0]\n",
    "# summarize feature importance\n",
    "for i,v in enumerate(importance):\n",
    "    print('Feature: %0d, Score: %.5f' % (i,v))\n",
    "# plot feature importance\n",
    "pyplot.bar([x for x in range(len(importance))], importance)\n",
    "pyplot.show()"
   ]
  },
  {
   "cell_type": "markdown",
   "metadata": {},
   "source": [
    "# 6. Model Evaluation using Test set"
   ]
  },
  {
   "cell_type": "code",
   "execution_count": 79,
   "metadata": {},
   "outputs": [],
   "source": [
    "from sklearn.metrics import jaccard_similarity_score\n",
    "from sklearn.metrics import f1_score\n",
    "from sklearn.metrics import log_loss"
   ]
  },
  {
   "cell_type": "code",
   "execution_count": 92,
   "metadata": {},
   "outputs": [
    {
     "name": "stdout",
     "output_type": "stream",
     "text": [
      "KNN Jaccard test set Accuracy:  0.6605097181104389\n",
      "KNN F1-score test set Accuracy:  0.6604109215116801\n"
     ]
    },
    {
     "name": "stderr",
     "output_type": "stream",
     "text": [
      "/Users/hanrong/opt/anaconda3/lib/python3.7/site-packages/sklearn/metrics/_classification.py:664: FutureWarning: jaccard_similarity_score has been deprecated and replaced with jaccard_score. It will be removed in version 0.23. This implementation has surprising behavior for binary and multiclass classification tasks.\n",
      "  FutureWarning)\n"
     ]
    }
   ],
   "source": [
    "yhat = neigh3.predict(X_test)\n",
    "print(\"KNN Jaccard test set Accuracy: \", jaccard_similarity_score(y_test, yhat))\n",
    "print(\"KNN F1-score test set Accuracy: \", f1_score(y_test, yhat, average='weighted'))"
   ]
  },
  {
   "cell_type": "code",
   "execution_count": 83,
   "metadata": {},
   "outputs": [
    {
     "name": "stdout",
     "output_type": "stream",
     "text": [
      "DecisionTrees Jaccard test set Accuracy:  0.6932037585274811\n",
      "DecisionTrees F1-score test set Accuracy:  0.6911074433802831\n"
     ]
    },
    {
     "name": "stderr",
     "output_type": "stream",
     "text": [
      "/Users/hanrong/opt/anaconda3/lib/python3.7/site-packages/sklearn/metrics/_classification.py:664: FutureWarning: jaccard_similarity_score has been deprecated and replaced with jaccard_score. It will be removed in version 0.23. This implementation has surprising behavior for binary and multiclass classification tasks.\n",
      "  FutureWarning)\n"
     ]
    }
   ],
   "source": [
    "predTree = sevTree.predict(X_test)\n",
    "print(\"DecisionTrees Jaccard test set Accuracy: \", jaccard_similarity_score(y_test, predTree))\n",
    "print(\"DecisionTrees F1-score test set Accuracy: \", f1_score(y_test, predTree, average='weighted'))"
   ]
  },
  {
   "cell_type": "code",
   "execution_count": 84,
   "metadata": {},
   "outputs": [
    {
     "name": "stdout",
     "output_type": "stream",
     "text": [
      "SVM Jaccard test set Accuracy:  0.7063328613721199\n",
      "SVM F1-score test set Accuracy:  0.7063154041034252\n"
     ]
    },
    {
     "name": "stderr",
     "output_type": "stream",
     "text": [
      "/Users/hanrong/opt/anaconda3/lib/python3.7/site-packages/sklearn/metrics/_classification.py:664: FutureWarning: jaccard_similarity_score has been deprecated and replaced with jaccard_score. It will be removed in version 0.23. This implementation has surprising behavior for binary and multiclass classification tasks.\n",
      "  FutureWarning)\n"
     ]
    }
   ],
   "source": [
    "yhat2 = clf.predict(X_test)\n",
    "print(\"SVM Jaccard test set Accuracy: \" , jaccard_similarity_score(y_test, yhat2))\n",
    "print(\"SVM F1-score test set Accuracy: \", f1_score(y_test, yhat2, average='weighted'))"
   ]
  },
  {
   "cell_type": "code",
   "execution_count": 85,
   "metadata": {},
   "outputs": [
    {
     "name": "stdout",
     "output_type": "stream",
     "text": [
      "LogisticRegression Jaccard test set Accuracy:  0.7057536362466212\n",
      "LogisticRegression F1-score test set Accuracy:  0.7057533437422961\n",
      "LogisticRegression logloss: : 0.58\n"
     ]
    },
    {
     "name": "stderr",
     "output_type": "stream",
     "text": [
      "/Users/hanrong/opt/anaconda3/lib/python3.7/site-packages/sklearn/metrics/_classification.py:664: FutureWarning: jaccard_similarity_score has been deprecated and replaced with jaccard_score. It will be removed in version 0.23. This implementation has surprising behavior for binary and multiclass classification tasks.\n",
      "  FutureWarning)\n"
     ]
    }
   ],
   "source": [
    "yhat3 = LR.predict(X_test)\n",
    "print(\"LogisticRegression Jaccard test set Accuracy: \" , jaccard_similarity_score(y_test, yhat3))\n",
    "print(\"LogisticRegression F1-score test set Accuracy: \", f1_score(y_test, yhat3, average='weighted'))\n",
    "yhat_prob = LR.predict_proba(X_test)\n",
    "print(\"LogisticRegression logloss: : %.2f\" % log_loss(y_test, yhat_prob))"
   ]
  },
  {
   "cell_type": "markdown",
   "metadata": {},
   "source": [
    "# Report\n",
    "The accuracy of the built model using different evaluation metrics:\n",
    "\n",
    "| Algorithm          | Jaccard | F1-score | LogLoss |\n",
    "|--------------------|---------|----------|---------|\n",
    "| KNN                | 0.6645       | 0.6644        | NA      |\n",
    "| Decision Tree      | 0.6916       | 0.6905        | NA      |\n",
    "| SVM                | 0.7081       | 0.7080        | NA      |\n",
    "| LogisticRegression | 0.7047       | 0.7047        | 0.57       |"
   ]
  },
  {
   "cell_type": "markdown",
   "metadata": {},
   "source": [
    "# Advance Observation"
   ]
  },
  {
   "cell_type": "markdown",
   "metadata": {},
   "source": [
    "Python imbalanced-learn module\n",
    "A number of more sophisticated resapling techniques have been proposed in the scientific literature.\n",
    "\n",
    "For example, we can cluster the records of the majority class, and do the under-sampling by removing records from each cluster, thus seeking to preserve information. In over-sampling, instead of creating exact copies of the minority class records, we can introduce small variations into those copies, creating more diverse synthetic samples.\n",
    "\n",
    "Let's apply some of these resampling techniques, using the Python library imbalanced-learn. It is compatible with scikit-learn and is part of scikit-learn-contrib projects."
   ]
  },
  {
   "cell_type": "markdown",
   "metadata": {},
   "source": [
    "https://machinelearningmastery.com/feature-selection-with-categorical-data/\n",
    "How to Perform Feature Selection with Categorical Data\n",
    "\n",
    "\n",
    "Correlation among multiple categorical variables (Pandas)\n",
    "\n",
    "\n",
    "The Search for Categorical Correlation\n",
    "https://towardsdatascience.com/the-search-for-categorical-correlation-a1cf7f1888c9"
   ]
  }
 ],
 "metadata": {
  "kernelspec": {
   "display_name": "Python 3",
   "language": "python",
   "name": "python3"
  },
  "language_info": {
   "codemirror_mode": {
    "name": "ipython",
    "version": 3
   },
   "file_extension": ".py",
   "mimetype": "text/x-python",
   "name": "python",
   "nbconvert_exporter": "python",
   "pygments_lexer": "ipython3",
   "version": "3.7.6"
  }
 },
 "nbformat": 4,
 "nbformat_minor": 1
}
