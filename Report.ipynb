{
 "cells": [
  {
   "cell_type": "markdown",
   "metadata": {},
   "source": [
    "# <center>  Predict Severity of Car Accident </center>"
   ]
  },
  {
   "cell_type": "markdown",
   "metadata": {},
   "source": [
    "# 1. Introduction"
   ]
  },
  {
   "cell_type": "markdown",
   "metadata": {},
   "source": [
    "## 1.1 Background\n",
    "Traffic accidents have become an increasingly important issue threatening people's public safety. In some cases, due to the lag of information, rescue organizations cannot understand the details of the accident in time, more and more vehicles are congested on the road, and the situation is getting worse...\n",
    "Therefore, if we can predict the severity of the accident based on the existing relevant data (such as road conditions, weather, etc.), it will help to make corresponding preparations when the accident occurs and buy time for the next action. Real-time reminders of traffic accident predictions can also help alleviate traffic pressure.\n",
    "## 1.2 Problem\n",
    "In this project we will predict the severity of an accident given the relative data like weather, road condition, etc.\n",
    "\n",
    "## 1.3 Interest\n",
    "The stakeholder of this project can be drivers who can use the prediction to get more careful o the traffic emergency  department to get more prepared for the possible accident."
   ]
  },
  {
   "cell_type": "markdown",
   "metadata": {},
   "source": [
    "# 2. Data"
   ]
  },
  {
   "cell_type": "markdown",
   "metadata": {},
   "source": [
    "## 2.1 Data Acquisition\n",
    "I use the dataset [National Collision Database](https://open.canada.ca/data/en/dataset/1eb9eba7-71d1-4b30-9fb1-30cbdab7e63a) which is a database containing all police-reported motor vehicle collisions on public roads in Canada. Selected variables (data elements) relating to fatal and injury collisions for the collisions from 1999 to 2017. The data can be found [here](https://opendatatc.blob.core.windows.net/opendatatc/NCDB_1999_to_2017.csv) and the data dictionary [here](https://opendatatc.blob.core.windows.net/opendatatc/NCDB_Data_Dictionary.docx)"
   ]
  },
  {
   "cell_type": "markdown",
   "metadata": {},
   "source": [
    "## 2.2 Data Cleaning"
   ]
  },
  {
   "cell_type": "markdown",
   "metadata": {},
   "source": [
    "## 2.3 Feature Selecction\n",
    "Based on definition of our problem, we could include the following factors that influence the severity of a traffic accident:\n",
    "- road condition (ROADCOND)\n",
    "- weather condition (WEATHER)\n",
    "- junction (JUNCTIONTYPE)\n",
    "- light conditions (LIGHTCOND)\n",
    "- location\n",
    "- number of people involved\n",
    "- number of vehicles involved in\n",
    "- car speeding (SPEEDING) \n",
    "\n",
    "Given the data provided, I'll use the following fields: \n",
    "- road condition (ROADCOND)\n",
    "- weather condition (WEATHER)\n",
    "- junction (JUNCTIONTYPE)\n",
    "- light conditions (LIGHTCOND)\n",
    "- location\n",
    "\n",
    "The number of people involved and number of vehicles involved in won't be taken into account as we may not know these data when we want to predict an accident.\n",
    "\n",
    "The car speeding (SPEEDING) field is not used because in this dataset, it means Whether or not speeding was a factor in the collision. (Y/N) and all of them is Yes which will not contribute to this project."
   ]
  },
  {
   "cell_type": "markdown",
   "metadata": {},
   "source": [
    "## 3. Methodology\n",
    "### 3.1 Exploratory Data Analysis\n",
    "### 3.2 Inferential Statistical Testing\n",
    "### 3.3 Model\n",
    "which represents the main component of the report where you discuss and describe any exploratory data analysis that you did, any inferential statistical testing that you performed, if any, and what machine learnings were used and why."
   ]
  },
  {
   "cell_type": "markdown",
   "metadata": {},
   "source": [
    "## Results \n",
    "where you discuss the results."
   ]
  },
  {
   "cell_type": "markdown",
   "metadata": {},
   "source": [
    "## Discussion\n",
    "where you discuss any observations you noted and any recommendations you can make based on the results."
   ]
  },
  {
   "cell_type": "markdown",
   "metadata": {},
   "source": [
    "## Conclusion \n",
    "where you conclude the report."
   ]
  },
  {
   "cell_type": "code",
   "execution_count": null,
   "metadata": {},
   "outputs": [],
   "source": []
  }
 ],
 "metadata": {
  "kernelspec": {
   "display_name": "Python 3",
   "language": "python",
   "name": "python3"
  },
  "language_info": {
   "codemirror_mode": {
    "name": "ipython",
    "version": 3
   },
   "file_extension": ".py",
   "mimetype": "text/x-python",
   "name": "python",
   "nbconvert_exporter": "python",
   "pygments_lexer": "ipython3",
   "version": "3.7.6"
  }
 },
 "nbformat": 4,
 "nbformat_minor": 4
}
