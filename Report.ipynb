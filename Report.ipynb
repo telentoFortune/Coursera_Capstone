{
 "cells": [
  {
   "cell_type": "markdown",
   "metadata": {},
   "source": [
    "# Predict Severity of Car Accident"
   ]
  },
  {
   "cell_type": "markdown",
   "metadata": {},
   "source": [
    "## Business Problem\n",
    "Traffic accident has been a more and more importante issue threatening people’s public safety. Therefore, vehicle collision prediction based on relevant data and promptly reminding people may help to reduce accidents.\n",
    "\n",
    "In this project, we will try to predict the severity of accidents given the data that could affact it, like weather, road condition, car speeding, etc. in the city **Seatle, USA.**\n",
    "\n",
    "The stakeholder of this project can be drivers who can use the prediction to get more careful o the traffic emergency  department to get more prepared for the possible accident."
   ]
  },
  {
   "cell_type": "markdown",
   "metadata": {},
   "source": [
    "## Data\n",
    "Based on definition of our problem, we could include the following factors that influence the severity of a traffic accident:\n",
    "- road condition (ROADCOND)\n",
    "- weather condition (WEATHER)\n",
    "- junction (JUNCTIONTYPE)\n",
    "- light conditions (LIGHTCOND)\n",
    "- location\n",
    "- number of people involved\n",
    "- number of vehicles involved in\n",
    "- car speeding (SPEEDING) \n",
    "\n",
    "Given the data provided, I'll use the following fields: \n",
    "- road condition (ROADCOND)\n",
    "- weather condition (WEATHER)\n",
    "- junction (JUNCTIONTYPE)\n",
    "- light conditions (LIGHTCOND)\n",
    "- location\n",
    "\n",
    "The number of people involved and number of vehicles involved in won't be taken into account as we may not know these data when we want to predict an accident.\n",
    "\n",
    "The car speeding (SPEEDING) field is not used because in this dataset, it means Whether or not speeding was a factor in the collision. (Y/N) and all of them is Yes which will not contribute to this project."
   ]
  },
  {
   "cell_type": "code",
   "execution_count": null,
   "metadata": {},
   "outputs": [],
   "source": []
  }
 ],
 "metadata": {
  "kernelspec": {
   "display_name": "Python 3",
   "language": "python",
   "name": "python3"
  },
  "language_info": {
   "codemirror_mode": {
    "name": "ipython",
    "version": 3
   },
   "file_extension": ".py",
   "mimetype": "text/x-python",
   "name": "python",
   "nbconvert_exporter": "python",
   "pygments_lexer": "ipython3",
   "version": "3.7.6"
  }
 },
 "nbformat": 4,
 "nbformat_minor": 4
}
