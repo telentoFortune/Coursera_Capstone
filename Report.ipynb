{
 "cells": [
  {
   "cell_type": "markdown",
   "metadata": {},
   "source": [
    "# Predict Severity of Accident"
   ]
  },
  {
   "cell_type": "markdown",
   "metadata": {},
   "source": [
    "## Business Problem\n",
    "Traffic accident has been a more and more importante issue threatening people’s public safety. Therefore, vehicle collision prediction based on relevant data and promptly reminding people may help to reduce accidents.\n",
    "\n",
    "In this project, we will try to predict the severity of accidents given the data that could affact it, like weather, road condition, car speeding, etc. in the city **Seatle, USA.**\n",
    "\n",
    "The stakeholder of this project can be drivers who can use the prediction to get more careful o the traffic emergency  department to get more prepared for the possible accident."
   ]
  },
  {
   "cell_type": "markdown",
   "metadata": {},
   "source": [
    "## Data\n",
    "Based on definition of our problem, factors that will influence the severity of a traffic accident are:\n",
    "- location\n",
    "- road condition\n",
    "- weather condition\n",
    "- junction junction\n",
    "- car speeding\n",
    "- number of people involved\n",
    "- light conditions\n",
    "- number of vehicles involved in"
   ]
  },
  {
   "cell_type": "code",
   "execution_count": null,
   "metadata": {},
   "outputs": [],
   "source": []
  }
 ],
 "metadata": {
  "kernelspec": {
   "display_name": "Python 3",
   "language": "python",
   "name": "python3"
  },
  "language_info": {
   "codemirror_mode": {
    "name": "ipython",
    "version": 3
   },
   "file_extension": ".py",
   "mimetype": "text/x-python",
   "name": "python",
   "nbconvert_exporter": "python",
   "pygments_lexer": "ipython3",
   "version": "3.7.6"
  }
 },
 "nbformat": 4,
 "nbformat_minor": 4
}
