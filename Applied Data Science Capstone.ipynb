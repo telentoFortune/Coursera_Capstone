{
 "cells": [
  {
   "cell_type": "markdown",
   "metadata": {},
   "source": [
    "# <center>  Predict Severity of Car Accident </center>"
   ]
  },
  {
   "cell_type": "markdown",
   "metadata": {},
   "source": [
    "## Introduction\n",
    "This notebook will be mainly used for the capstone project.  \n",
    "In this project we will try to predict the severity of car collisions from the data.  \n",
    "Let's start playing with the data. We will be working according to the following workflow: \n",
    "1.  Download data\n",
    "\n",
    "-   Data Overview\n",
    "-   Data cleaning\n",
    "-   Feature selection\n",
    "-   Exploratory data analysis\n",
    "-   Regressiong Model\n",
    "-   Clasification Model\n",
    "-   Model Evaluation"
   ]
  },
  {
   "cell_type": "markdown",
   "metadata": {},
   "source": [
    "# 1. Download data\n",
    "We download the the dataset [National Collision Database](https://open.canada.ca/data/en/dataset/1eb9eba7-71d1-4b30-9fb1-30cbdab7e63a) and save it as __\"NCDB.csv\"__"
   ]
  },
  {
   "cell_type": "markdown",
   "metadata": {},
   "source": [
    "# 2. Data Overview\n",
    "\n",
    "We have found a more complete dataset of the sample dataset from [this page](https://data-seattlecitygis.opendata.arcgis.com/datasets/5b5c745e0f1f48e7a53acec63a0022ab_0)\n",
    "The matadata of this dataset can be found [here](https://s3.us.cloud-object-storage.appdomain.cloud/cf-courses-data/CognitiveClass/DP0701EN/version-2/Metadata.pdf)\n",
    "\n",
    "We will use the following variables from the dataset:   \n",
    "- ADDRTYPE \n",
    "- COLLISIONTYPE\n",
    "- PERSONCOUNT\n",
    "- PEDCOUNT\n",
    "- PEDCYLCOUNT\n",
    "- VEHCOUNT\n",
    "- JUNCTIONTYPE\n",
    "- WEATHER\n",
    "- ROADCOND\n",
    "- LIGHTCOND\n",
    "\n",
    "The dependent viable is \n",
    "- SEVERITYCODE"
   ]
  },
  {
   "cell_type": "markdown",
   "metadata": {},
   "source": [
    "## 2.1 Load the dataset\n",
    "\n",
    "We will import the .csv \n",
    "then we creates the columns for year, month and day."
   ]
  },
  {
   "cell_type": "code",
   "execution_count": 4,
   "metadata": {
    "scrolled": true
   },
   "outputs": [
    {
     "data": {
      "text/html": [
       "<div>\n",
       "<style scoped>\n",
       "    .dataframe tbody tr th:only-of-type {\n",
       "        vertical-align: middle;\n",
       "    }\n",
       "\n",
       "    .dataframe tbody tr th {\n",
       "        vertical-align: top;\n",
       "    }\n",
       "\n",
       "    .dataframe thead th {\n",
       "        text-align: right;\n",
       "    }\n",
       "</style>\n",
       "<table border=\"1\" class=\"dataframe\">\n",
       "  <thead>\n",
       "    <tr style=\"text-align: right;\">\n",
       "      <th></th>\n",
       "      <th>C_YEAR</th>\n",
       "      <th>C_MNTH</th>\n",
       "      <th>C_WDAY</th>\n",
       "      <th>C_HOUR</th>\n",
       "      <th>C_SEV</th>\n",
       "      <th>C_VEHS</th>\n",
       "      <th>C_CONF</th>\n",
       "      <th>C_RCFG</th>\n",
       "      <th>C_WTHR</th>\n",
       "      <th>C_RSUR</th>\n",
       "      <th>...</th>\n",
       "      <th>V_ID</th>\n",
       "      <th>V_TYPE</th>\n",
       "      <th>V_YEAR</th>\n",
       "      <th>P_ID</th>\n",
       "      <th>P_SEX</th>\n",
       "      <th>P_AGE</th>\n",
       "      <th>P_PSN</th>\n",
       "      <th>P_ISEV</th>\n",
       "      <th>P_SAFE</th>\n",
       "      <th>P_USER</th>\n",
       "    </tr>\n",
       "  </thead>\n",
       "  <tbody>\n",
       "    <tr>\n",
       "      <th>0</th>\n",
       "      <td>2014</td>\n",
       "      <td>1</td>\n",
       "      <td>1</td>\n",
       "      <td>10</td>\n",
       "      <td>2</td>\n",
       "      <td>1</td>\n",
       "      <td>02</td>\n",
       "      <td>03</td>\n",
       "      <td>1</td>\n",
       "      <td>3</td>\n",
       "      <td>...</td>\n",
       "      <td>1</td>\n",
       "      <td>01</td>\n",
       "      <td>UUUU</td>\n",
       "      <td>01</td>\n",
       "      <td>M</td>\n",
       "      <td>75</td>\n",
       "      <td>11</td>\n",
       "      <td>2</td>\n",
       "      <td>NN</td>\n",
       "      <td>1</td>\n",
       "    </tr>\n",
       "    <tr>\n",
       "      <th>1</th>\n",
       "      <td>2014</td>\n",
       "      <td>1</td>\n",
       "      <td>1</td>\n",
       "      <td>12</td>\n",
       "      <td>2</td>\n",
       "      <td>1</td>\n",
       "      <td>04</td>\n",
       "      <td>UU</td>\n",
       "      <td>1</td>\n",
       "      <td>5</td>\n",
       "      <td>...</td>\n",
       "      <td>1</td>\n",
       "      <td>01</td>\n",
       "      <td>UUUU</td>\n",
       "      <td>01</td>\n",
       "      <td>F</td>\n",
       "      <td>21</td>\n",
       "      <td>11</td>\n",
       "      <td>2</td>\n",
       "      <td>02</td>\n",
       "      <td>1</td>\n",
       "    </tr>\n",
       "    <tr>\n",
       "      <th>2</th>\n",
       "      <td>2014</td>\n",
       "      <td>1</td>\n",
       "      <td>1</td>\n",
       "      <td>00</td>\n",
       "      <td>2</td>\n",
       "      <td>1</td>\n",
       "      <td>03</td>\n",
       "      <td>UU</td>\n",
       "      <td>7</td>\n",
       "      <td>3</td>\n",
       "      <td>...</td>\n",
       "      <td>1</td>\n",
       "      <td>01</td>\n",
       "      <td>UUUU</td>\n",
       "      <td>01</td>\n",
       "      <td>F</td>\n",
       "      <td>34</td>\n",
       "      <td>11</td>\n",
       "      <td>2</td>\n",
       "      <td>02</td>\n",
       "      <td>1</td>\n",
       "    </tr>\n",
       "    <tr>\n",
       "      <th>3</th>\n",
       "      <td>2014</td>\n",
       "      <td>1</td>\n",
       "      <td>1</td>\n",
       "      <td>17</td>\n",
       "      <td>2</td>\n",
       "      <td>2</td>\n",
       "      <td>21</td>\n",
       "      <td>UU</td>\n",
       "      <td>1</td>\n",
       "      <td>1</td>\n",
       "      <td>...</td>\n",
       "      <td>1</td>\n",
       "      <td>01</td>\n",
       "      <td>UUUU</td>\n",
       "      <td>01</td>\n",
       "      <td>F</td>\n",
       "      <td>50</td>\n",
       "      <td>11</td>\n",
       "      <td>2</td>\n",
       "      <td>02</td>\n",
       "      <td>1</td>\n",
       "    </tr>\n",
       "    <tr>\n",
       "      <th>4</th>\n",
       "      <td>2014</td>\n",
       "      <td>1</td>\n",
       "      <td>1</td>\n",
       "      <td>17</td>\n",
       "      <td>2</td>\n",
       "      <td>2</td>\n",
       "      <td>21</td>\n",
       "      <td>UU</td>\n",
       "      <td>1</td>\n",
       "      <td>1</td>\n",
       "      <td>...</td>\n",
       "      <td>2</td>\n",
       "      <td>01</td>\n",
       "      <td>UUUU</td>\n",
       "      <td>01</td>\n",
       "      <td>M</td>\n",
       "      <td>63</td>\n",
       "      <td>11</td>\n",
       "      <td>1</td>\n",
       "      <td>NN</td>\n",
       "      <td>1</td>\n",
       "    </tr>\n",
       "  </tbody>\n",
       "</table>\n",
       "<p>5 rows × 22 columns</p>\n",
       "</div>"
      ],
      "text/plain": [
       "   C_YEAR C_MNTH C_WDAY C_HOUR  C_SEV C_VEHS C_CONF C_RCFG C_WTHR C_RSUR  ...  \\\n",
       "0    2014      1      1     10      2      1     02     03      1      3  ...   \n",
       "1    2014      1      1     12      2      1     04     UU      1      5  ...   \n",
       "2    2014      1      1     00      2      1     03     UU      7      3  ...   \n",
       "3    2014      1      1     17      2      2     21     UU      1      1  ...   \n",
       "4    2014      1      1     17      2      2     21     UU      1      1  ...   \n",
       "\n",
       "  V_ID V_TYPE V_YEAR P_ID P_SEX P_AGE P_PSN P_ISEV P_SAFE P_USER  \n",
       "0    1     01   UUUU   01     M    75    11      2     NN      1  \n",
       "1    1     01   UUUU   01     F    21    11      2     02      1  \n",
       "2    1     01   UUUU   01     F    34    11      2     02      1  \n",
       "3    1     01   UUUU   01     F    50    11      2     02      1  \n",
       "4    2     01   UUUU   01     M    63    11      1     NN      1  \n",
       "\n",
       "[5 rows x 22 columns]"
      ]
     },
     "execution_count": 4,
     "metadata": {},
     "output_type": "execute_result"
    }
   ],
   "source": [
    "import csv\n",
    "import pandas as pd\n",
    "import numpy as np\n",
    "\n",
    "filename='NCDB_2014.csv'\n",
    "\n",
    "#Read csv\n",
    "pdf = pd.read_csv(filename)\n",
    "pdf.head()"
   ]
  },
  {
   "cell_type": "code",
   "execution_count": 3,
   "metadata": {},
   "outputs": [
    {
     "data": {
      "text/plain": [
       "C_YEAR     int64\n",
       "C_MNTH    object\n",
       "C_WDAY    object\n",
       "C_HOUR    object\n",
       "C_SEV      int64\n",
       "C_VEHS    object\n",
       "C_CONF    object\n",
       "C_RCFG    object\n",
       "C_WTHR    object\n",
       "C_RSUR    object\n",
       "C_RALN    object\n",
       "C_TRAF    object\n",
       "V_ID      object\n",
       "V_TYPE    object\n",
       "V_YEAR    object\n",
       "P_ID      object\n",
       "P_SEX     object\n",
       "P_AGE     object\n",
       "P_PSN     object\n",
       "P_ISEV    object\n",
       "P_SAFE    object\n",
       "P_USER    object\n",
       "dtype: object"
      ]
     },
     "execution_count": 3,
     "metadata": {},
     "output_type": "execute_result"
    }
   ],
   "source": [
    "pdf.dtypes"
   ]
  },
  {
   "cell_type": "markdown",
   "metadata": {},
   "source": [
    "# 3. Data Cleaning"
   ]
  },
  {
   "cell_type": "markdown",
   "metadata": {},
   "source": [
    "## 3.1 Identify and handle missing values"
   ]
  },
  {
   "cell_type": "code",
   "execution_count": 28,
   "metadata": {},
   "outputs": [
    {
     "name": "stderr",
     "output_type": "stream",
     "text": [
      "/Users/hanrong/opt/anaconda3/lib/python3.7/site-packages/ipykernel_launcher.py:6: SettingWithCopyWarning: \n",
      "A value is trying to be set on a copy of a slice from a DataFrame\n",
      "\n",
      "See the caveats in the documentation: https://pandas.pydata.org/pandas-docs/stable/user_guide/indexing.html#returning-a-view-versus-a-copy\n",
      "  \n"
     ]
    },
    {
     "data": {
      "text/plain": [
       "(188220, 10)"
      ]
     },
     "execution_count": 28,
     "metadata": {},
     "output_type": "execute_result"
    }
   ],
   "source": [
    "columns = ['ADDRTYPE','SEVERITYCODE','PERSONCOUNT','PEDCOUNT',\n",
    "           'PEDCYLCOUNT','VEHCOUNT','JUNCTIONTYPE',\n",
    "          'WEATHER','ROADCOND','LIGHTCOND']\n",
    "df = pdf[columns]\n",
    "\n",
    "for column in df.columns:\n",
    "    print(df[column].value_counts())\n",
    "# Convert \"?\" to NaN\n",
    "df.replace(\"?\", np.nan, inplace=True)\n",
    "\n",
    "# simply drop All Rows with any Null/NaN/NaT Values\n",
    "# df.dropna(subset=[\"SEVERITYCODE\"], axis=0, inplace=True)\n",
    "df.dropna(axis=0, inplace=True)\n",
    "\n",
    "# Drop the rows with SEVERITYCODE values 0 (unknown)\n",
    "df.drop(df[df['SEVERITYCODE'] == '0'].index,inplace=True)\n",
    "\n",
    "# reset index\n",
    "df.reset_index(drop=True, inplace=True)\n",
    "\n",
    "df.shape"
   ]
  },
  {
   "cell_type": "markdown",
   "metadata": {},
   "source": [
    "## 4. Feature selection"
   ]
  },
  {
   "cell_type": "markdown",
   "metadata": {},
   "source": [
    "## 5. Exploratory data analysis"
   ]
  },
  {
   "cell_type": "markdown",
   "metadata": {},
   "source": [
    "## 6. Regressiong Model"
   ]
  },
  {
   "cell_type": "markdown",
   "metadata": {},
   "source": [
    "## 7. Clasification Model"
   ]
  },
  {
   "cell_type": "markdown",
   "metadata": {},
   "source": [
    "## 8. Model Evaluation"
   ]
  },
  {
   "cell_type": "markdown",
   "metadata": {},
   "source": [
    "## Data visualization and pre-processing\n"
   ]
  },
  {
   "cell_type": "code",
   "execution_count": 30,
   "metadata": {},
   "outputs": [
    {
     "data": {
      "text/plain": [
       "1     127538\n",
       "2      57316\n",
       "2b      3028\n",
       "3        338\n",
       "Name: SEVERITYCODE, dtype: int64"
      ]
     },
     "execution_count": 30,
     "metadata": {},
     "output_type": "execute_result"
    }
   ],
   "source": [
    "# Let’s see how many of each class is in our data set \n",
    "df['SEVERITYCODE'].value_counts()"
   ]
  },
  {
   "cell_type": "markdown",
   "metadata": {},
   "source": [
    "### Undersampling the data\n",
    "Undersampling is the process where you randomly delete some of the observations from the majority class in order to match the numbers with the minority class."
   ]
  },
  {
   "cell_type": "code",
   "execution_count": 32,
   "metadata": {},
   "outputs": [
    {
     "data": {
      "image/png": "[encoded data removed]",
      "text/plain": [
       "<Figure size 576x576 with 1 Axes>"
      ]
     },
     "metadata": {
      "needs_background": "light"
     },
     "output_type": "display_data"
    }
   ],
   "source": [
    "# Shuffle the Dataset.\n",
    "shuffled_df = df.sample(frac=1,random_state=4)\n",
    "\n",
    "# Put all SEVERITYCODE=3 class in a separate dataset.\n",
    "df_3 = shuffled_df.loc[shuffled_df['SEVERITYCODE'] == '3']\n",
    "\n",
    "#Randomly select 338 observations from the 3 majority class\n",
    "rdm_df1 = shuffled_df.loc[shuffled_df['SEVERITYCODE'] == '1'].sample(n=338,random_state=35)\n",
    "rdm_df2 = shuffled_df.loc[shuffled_df['SEVERITYCODE'] == '2'].sample(n=338,random_state=35)\n",
    "rdm_df2b = shuffled_df.loc[shuffled_df['SEVERITYCODE'] == '2b'].sample(n=338,random_state=35)\n",
    "\n",
    "# Concatenate both dataframes again\n",
    "normalized_df = pd.concat([df_3, rdm_df1,rdm_df2,rdm_df2b])\n",
    "\n",
    "#plot the dataset after the undersampling\n",
    "plt.figure(figsize=(8, 8))\n",
    "sns.countplot('SEVERITYCODE', data=normalized_df)\n",
    "plt.title('Balanced Classes')\n",
    "plt.show()"
   ]
  }
 ],
 "metadata": {
  "kernelspec": {
   "display_name": "Python 3",
   "language": "python",
   "name": "python3"
  },
  "language_info": {
   "codemirror_mode": {
    "name": "ipython",
    "version": 3
   },
   "file_extension": ".py",
   "mimetype": "text/x-python",
   "name": "python",
   "nbconvert_exporter": "python",
   "pygments_lexer": "ipython3",
   "version": "3.7.6"
  }
 },
 "nbformat": 4,
 "nbformat_minor": 1
}
